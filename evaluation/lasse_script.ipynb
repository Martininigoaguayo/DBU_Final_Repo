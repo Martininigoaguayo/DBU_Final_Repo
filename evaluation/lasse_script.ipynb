{
 "cells": [
  {
   "cell_type": "code",
   "execution_count": 1,
   "metadata": {},
   "outputs": [],
   "source": [
    "import sys\n",
    "import os\n",
    "import pandas as pd\n",
    "import vlc\n",
    "from PyQt5.QtWidgets import QApplication, QMainWindow, QWidget, QVBoxLayout, QPushButton, QLabel, QHBoxLayout\n",
    "from PyQt5.QtCore import QTimer\n",
    "\n",
    "# Video offsets dictionary\n",
    "kickoffs = {\n",
    "    'Denmark_England': {'1H': 8.9, '2H': ((60 + 2) * 60 + 31) - 2700},\n",
    "    'Slovenia_Denmark': {'1H': 8.2, '2H': ((60 + 1) * 60 + 55) - 2700},\n",
    "    'Germany_Denmark': {'1H': 8.9, '2H': ((60 + 27) * 60 + 36) - 2700},\n",
    "    'Denmark_Serbia': {'1H': 9, '2H': ((60 + 2) * 60 + 27) - 2700}\n",
    "}\n",
    "\n",
    "class VideoPlayer(QMainWindow):\n",
    "    def __init__(self):\n",
    "        super().__init__()\n",
    "        self.setWindowTitle(\"VLC Video Player\")\n",
    "        self.setGeometry(100, 100, 800, 600)\n",
    "\n",
    "        # Set up VLC instance\n",
    "        self.instance = vlc.Instance()\n",
    "        self.player = self.instance.media_player_new()\n",
    "\n",
    "        # Create video widget\n",
    "        self.video_widget = QWidget(self)\n",
    "\n",
    "        # Delay linking VLC to video widget\n",
    "        QTimer.singleShot(100, self.initialize_vlc)\n",
    "\n",
    "        # UI elements\n",
    "        self.create_ui()\n",
    "\n",
    "        # State management\n",
    "        self.dataframe = None\n",
    "        self.current_index = -1\n",
    "        self.reference_clip = None\n",
    "        self.ratings = []  # List to store user ratings\n",
    "\n",
    "    def initialize_vlc(self):\n",
    "        \"\"\"Bind VLC media player to the video widget.\"\"\"\n",
    "        try:\n",
    "            self.video_widget.ensurePolished()\n",
    "            if sys.platform.startswith(\"darwin\"):\n",
    "                self.player.set_nsobject(int(self.video_widget.winId()))\n",
    "            elif sys.platform.startswith(\"win\"):\n",
    "                self.player.set_hwnd(self.video_widget.winId())\n",
    "            else:\n",
    "                self.player.set_xwindow(self.video_widget.winId())\n",
    "            print(\"VLC player successfully linked to video widget.\")\n",
    "        except Exception as e:\n",
    "            print(f\"Error linking VLC player: {e}\")\n",
    "\n",
    "    def create_ui(self):\n",
    "        \"\"\"Create UI controls and layout.\"\"\"\n",
    "        layout = QVBoxLayout()\n",
    "\n",
    "        # Add the video widget\n",
    "        layout.addWidget(self.video_widget)\n",
    "\n",
    "        # Add a label to display the current status\n",
    "        self.video_label = QLabel(\"No video playing.\")\n",
    "        layout.addWidget(self.video_label)\n",
    "\n",
    "        # Add control buttons\n",
    "        controls_layout = QHBoxLayout()\n",
    "\n",
    "        play_button = QPushButton(\"Play Reference\")\n",
    "        play_button.clicked.connect(self.play_reference_clip)\n",
    "        controls_layout.addWidget(play_button)\n",
    "\n",
    "        next_button = QPushButton(\"Next\")\n",
    "        next_button.clicked.connect(self.next_clip)\n",
    "        controls_layout.addWidget(next_button)\n",
    "\n",
    "        layout.addLayout(controls_layout)\n",
    "\n",
    "        # Add Yes/No buttons\n",
    "        rating_layout = QHBoxLayout()\n",
    "        self.yes_button = QPushButton(\"Yes\")\n",
    "        self.yes_button.clicked.connect(lambda: self.rate_clip(1))\n",
    "        self.yes_button.setEnabled(False)  # Initially disabled\n",
    "        rating_layout.addWidget(self.yes_button)\n",
    "\n",
    "        self.no_button = QPushButton(\"No\")\n",
    "        self.no_button.clicked.connect(lambda: self.rate_clip(0))\n",
    "        self.no_button.setEnabled(False)  # Initially disabled\n",
    "        rating_layout.addWidget(self.no_button)\n",
    "\n",
    "        layout.addLayout(rating_layout)\n",
    "\n",
    "        # Set the layout to a central container\n",
    "        container = QWidget()\n",
    "        container.setLayout(layout)\n",
    "        self.setCentralWidget(container)\n",
    "\n",
    "    def load_clips(self, folder_path):\n",
    "        \"\"\"Load reference clip and additional clips.\"\"\"\n",
    "        # Load reference info\n",
    "        ref_file = os.path.join(folder_path, \"situation-info.txt\")\n",
    "        with open(ref_file, \"r\") as f:\n",
    "            lines = f.readlines()\n",
    "            match_name = lines[0].split(\":\")[1].strip()\n",
    "            time_of_situation = lines[1].split(\":\")[1].strip()\n",
    "            self.reference_clip = {\n",
    "                \"match_name\": match_name,\n",
    "                \"time\": self.time_to_seconds(time_of_situation)\n",
    "            }\n",
    "\n",
    "        # Load best clips\n",
    "        csv_file = os.path.join(folder_path, \"best.csv\")\n",
    "        self.dataframe = pd.read_csv(csv_file)\n",
    "\n",
    "    def play_clip(self, match_name, time, half):\n",
    "        \"\"\"Play a specific clip for 10 seconds, starting 5 seconds before the timestamp.\"\"\"\n",
    "        offset = kickoffs[match_name][half]\n",
    "        start_time = time + offset - 5  # Start 5 seconds before the timestamp\n",
    "\n",
    "        # Ensure start time is not negative\n",
    "        start_time = max(start_time, 0)\n",
    "\n",
    "        video_path = f\"vids/{match_name}.mov\"\n",
    "        media = self.instance.media_new(video_path)\n",
    "        self.player.set_media(media)\n",
    "        self.player.play()\n",
    "\n",
    "        print(f\"Starting playback: {match_name}, {half} @ {start_time}s\")\n",
    "\n",
    "        # Delay before seeking (VLC requires this)\n",
    "        QTimer.singleShot(1000, lambda: self.seek_and_confirm(start_time))\n",
    "\n",
    "        # Update UI\n",
    "        self.video_label.setText(f\"Playing: {match_name}, {half} @ {start_time}s (10s clip)\")\n",
    "        self.enable_rating_buttons()\n",
    "\n",
    "    def seek_and_confirm(self, start_time):\n",
    "        \"\"\"Seek to the start time, confirm playback state, and start stop timer.\"\"\"\n",
    "        self.player.set_time(int(start_time * 1000))\n",
    "        print(f\"Seeked to {start_time}s, Player state: {self.player.get_state()}\")\n",
    "\n",
    "        # Schedule stop 10 seconds after seeking\n",
    "        QTimer.singleShot(10000, self.stop_clip)\n",
    "\n",
    "    def stop_clip(self):\n",
    "        \"\"\"Stop playback.\"\"\"\n",
    "        self.player.stop()\n",
    "        self.video_label.setText(\"Playback stopped.\")\n",
    "\n",
    "    def enable_rating_buttons(self):\n",
    "        \"\"\"Enable Yes/No buttons.\"\"\"\n",
    "        self.yes_button.setEnabled(True)\n",
    "        self.no_button.setEnabled(True)\n",
    "\n",
    "    def disable_rating_buttons(self):\n",
    "        \"\"\"Disable Yes/No buttons.\"\"\"\n",
    "        self.yes_button.setEnabled(False)\n",
    "        self.no_button.setEnabled(False)\n",
    "\n",
    "    def rate_clip(self, rating):\n",
    "        \"\"\"Store the user's rating for the current clip.\"\"\"\n",
    "        self.ratings.append(rating)\n",
    "        self.disable_rating_buttons()\n",
    "\n",
    "        if self.current_index + 1 >= len(self.dataframe):\n",
    "            # All clips rated, save ratings to the DataFrame\n",
    "            self.dataframe[\"rating\"] = self.ratings\n",
    "            print(\"Ratings saved to DataFrame:\")\n",
    "            print(self.dataframe)\n",
    "        else:\n",
    "            # Proceed to the next clip\n",
    "            self.next_clip()\n",
    "\n",
    "    def play_reference_clip(self):\n",
    "        \"\"\"Play the reference clip.\"\"\"\n",
    "        if self.reference_clip:\n",
    "            match_name = self.reference_clip[\"match_name\"]\n",
    "            time = self.reference_clip[\"time\"]\n",
    "            half = \"1H\" if time < 2700 else \"2H\"\n",
    "            self.play_clip(match_name, time, half)\n",
    "\n",
    "    def next_clip(self):\n",
    "        \"\"\"Play the next clip in the list.\"\"\"\n",
    "        if self.dataframe is not None:\n",
    "            self.current_index += 1\n",
    "            if self.current_index < len(self.dataframe):\n",
    "                row = self.dataframe.iloc[self.current_index]\n",
    "                match_name = row[\"match_name\"]\n",
    "                time = row[\"Time [s]\"]\n",
    "                half = row[\"half_team\"]\n",
    "                self.play_clip(match_name, time, half)\n",
    "            else:\n",
    "                self.video_label.setText(\"No more clips to play.\")\n",
    "                self.current_index = -1  # Reset for replay\n",
    "\n",
    "    @staticmethod\n",
    "    def time_to_seconds(time_str):\n",
    "        \"\"\"Convert time in 'H-M-S' format to seconds.\"\"\"\n",
    "        h, m, s = map(int, time_str.split(\"-\"))\n",
    "        return h * 3600 + m * 60 + s"
   ]
  },
  {
   "cell_type": "code",
   "execution_count": 2,
   "metadata": {},
   "outputs": [],
   "source": [
    "# ! ls til_Lasse_4/Til_LASSE_breakthrough-even-Denmark_England-0-46-06\n",
    "# Til_LASSE_breakthrough-even-Denmark_Serbia-0-47-40\n",
    "# Til_LASSE_breakthrough-space-Denmark_England-0-30-51\n",
    "# Til_LASSE_breakthrough-space-Denmark_Serbia-0-15-26\n",
    "# Til_LASSE_breakthrough-wb-Denmark_England-0-07-22\n",
    "# Til_LASSE_cross-from-cb-Denmark_Serbia-0-41-40"
   ]
  },
  {
   "cell_type": "code",
   "execution_count": null,
   "metadata": {},
   "outputs": [
    {
     "name": "stderr",
     "output_type": "stream",
     "text": [
      "2024-12-13 14:43:03.377 python[10643:274098] +[IMKClient subclass]: chose IMKClient_Modern\n",
      "2024-12-13 14:43:03.377 python[10643:274098] +[IMKInputSession subclass]: chose IMKInputSession_Modern\n"
     ]
    },
    {
     "name": "stdout",
     "output_type": "stream",
     "text": [
      "VLC player successfully linked to video widget.\n",
      "Starting playback: Denmark_Serbia, 1H @ 2504s\n"
     ]
    },
    {
     "name": "stderr",
     "output_type": "stream",
     "text": [
      "[000000012f04af00] videotoolbox decoder: Using Video Toolbox to decode 'h264'\n",
      "[000000012f04af00] videotoolbox decoder: vt cvpx chroma: 420v\n"
     ]
    },
    {
     "name": "stdout",
     "output_type": "stream",
     "text": [
      "Seeked to 2504s, Player state: State.Playing\n",
      "Starting playback: Denmark_England, 1H @ 1868.5s\n"
     ]
    },
    {
     "name": "stderr",
     "output_type": "stream",
     "text": [
      "[000000015873c620] videotoolbox decoder: Using Video Toolbox to decode 'h264'\n",
      "[000000015873c620] videotoolbox decoder: vt cvpx chroma: 420v\n"
     ]
    },
    {
     "name": "stdout",
     "output_type": "stream",
     "text": [
      "Seeked to 1868.5s, Player state: State.Playing\n",
      "Starting playback: Denmark_Serbia, 1H @ 1892.32s\n"
     ]
    },
    {
     "name": "stderr",
     "output_type": "stream",
     "text": [
      "[00000001587cffe0] videotoolbox decoder: Using Video Toolbox to decode 'h264'\n",
      "[00000001587cffe0] videotoolbox decoder: vt cvpx chroma: 420v\n"
     ]
    },
    {
     "name": "stdout",
     "output_type": "stream",
     "text": [
      "Seeked to 1892.32s, Player state: State.Playing\n",
      "Starting playback: Germany_Denmark, 1H @ 283.02s\n"
     ]
    },
    {
     "name": "stderr",
     "output_type": "stream",
     "text": [
      "[0000000158715670] videotoolbox decoder: Using Video Toolbox to decode 'h264'\n",
      "[0000000158715670] videotoolbox decoder: vt cvpx chroma: 420v\n"
     ]
    },
    {
     "name": "stdout",
     "output_type": "stream",
     "text": [
      "Seeked to 283.02s, Player state: State.Playing\n",
      "Starting playback: Germany_Denmark, 2H @ 5794.52s\n"
     ]
    },
    {
     "name": "stderr",
     "output_type": "stream",
     "text": [
      "[00000001587477e0] videotoolbox decoder: Using Video Toolbox to decode 'h264'\n",
      "[00000001587477e0] videotoolbox decoder: vt cvpx chroma: 420v\n"
     ]
    },
    {
     "name": "stdout",
     "output_type": "stream",
     "text": [
      "Seeked to 5794.52s, Player state: State.Playing\n",
      "Starting playback: Denmark_England, 1H @ 1257.46s\n"
     ]
    },
    {
     "name": "stderr",
     "output_type": "stream",
     "text": [
      "[00000001587b4170] videotoolbox decoder: Using Video Toolbox to decode 'h264'\n",
      "[00000001587b4170] videotoolbox decoder: vt cvpx chroma: 420v\n"
     ]
    },
    {
     "name": "stdout",
     "output_type": "stream",
     "text": [
      "Seeked to 1257.46s, Player state: State.Playing\n",
      "Starting playback: Denmark_Serbia, 2H @ 4571.719999999999s\n"
     ]
    },
    {
     "name": "stderr",
     "output_type": "stream",
     "text": [
      "[000000015878c5a0] videotoolbox decoder: Using Video Toolbox to decode 'h264'\n",
      "[000000015878c5a0] videotoolbox decoder: vt cvpx chroma: 420v\n"
     ]
    },
    {
     "name": "stdout",
     "output_type": "stream",
     "text": [
      "Seeked to 4571.719999999999s, Player state: State.Playing\n",
      "Starting playback: Slovenia_Denmark, 1H @ 1836.32s\n"
     ]
    },
    {
     "name": "stderr",
     "output_type": "stream",
     "text": [
      "[0000000158772390] videotoolbox decoder: Using Video Toolbox to decode 'h264'\n",
      "[0000000158772390] videotoolbox decoder: vt cvpx chroma: 420v\n"
     ]
    },
    {
     "name": "stdout",
     "output_type": "stream",
     "text": [
      "Seeked to 1836.32s, Player state: State.Playing\n",
      "Starting playback: Denmark_Serbia, 2H @ 5338.28s\n"
     ]
    },
    {
     "name": "stderr",
     "output_type": "stream",
     "text": [
      "[000000011780d740] videotoolbox decoder: Using Video Toolbox to decode 'h264'\n",
      "[000000011780d740] videotoolbox decoder: vt cvpx chroma: 420v\n"
     ]
    },
    {
     "name": "stdout",
     "output_type": "stream",
     "text": [
      "Seeked to 5338.28s, Player state: State.Playing\n",
      "Starting playback: Denmark_Serbia, 1H @ 274.24s\n"
     ]
    },
    {
     "name": "stderr",
     "output_type": "stream",
     "text": [
      "[000000015875a370] videotoolbox decoder: Using Video Toolbox to decode 'h264'\n",
      "[000000015875a370] videotoolbox decoder: vt cvpx chroma: 420v\n"
     ]
    },
    {
     "name": "stdout",
     "output_type": "stream",
     "text": [
      "Seeked to 274.24s, Player state: State.Playing\n",
      "Starting playback: Denmark_Serbia, 1H @ 513.76s\n"
     ]
    },
    {
     "name": "stderr",
     "output_type": "stream",
     "text": [
      "[0000000158718180] videotoolbox decoder: Using Video Toolbox to decode 'h264'\n",
      "[0000000158718180] videotoolbox decoder: vt cvpx chroma: 420v\n"
     ]
    },
    {
     "name": "stdout",
     "output_type": "stream",
     "text": [
      "Seeked to 513.76s, Player state: State.Playing\n",
      "Ratings saved to DataFrame:\n",
      "   Unnamed: 0        match_name  Time [s] half_team        Time Min  rating\n",
      "0      189912   Denmark_England   1864.60        1H  0:31:04.600000       0\n",
      "1      331872    Denmark_Serbia   1888.32        1H  0:31:28.320000       0\n",
      "2      435768   Germany_Denmark    279.12        1H  0:04:39.120000       0\n",
      "3      511620   Germany_Denmark   3243.52        2H  0:54:03.520000       0\n",
      "4      174636   Denmark_England   1253.56        1H  0:20:53.560000       0\n",
      "5      374364    Denmark_Serbia   3529.72        2H  0:58:49.720000       0\n",
      "6       45828  Slovenia_Denmark   1833.12        1H  0:30:33.120000       0\n",
      "7      393528    Denmark_Serbia   4296.28        2H  1:11:36.280000       1\n",
      "8      291420    Denmark_Serbia    270.24        1H  0:04:30.240000       0\n",
      "9      297408    Denmark_Serbia    509.76        1H  0:08:29.760000       0\n"
     ]
    },
    {
     "ename": "SystemExit",
     "evalue": "0",
     "output_type": "error",
     "traceback": [
      "An exception has occurred, use %tb to see the full traceback.\n",
      "\u001b[0;31mSystemExit\u001b[0m\u001b[0;31m:\u001b[0m 0\n"
     ]
    },
    {
     "name": "stderr",
     "output_type": "stream",
     "text": [
      "/Users/lamp/.pyenv/versions/vlc-lib/lib/python3.10/site-packages/IPython/core/interactiveshell.py:3585: UserWarning: To exit: use 'exit', 'quit', or Ctrl-D.\n",
      "  warn(\"To exit: use 'exit', 'quit', or Ctrl-D.\", stacklevel=1)\n"
     ]
    }
   ],
   "source": [
    "p = \"til_Lasse_4/Til_LASSE_cross-from-cb-Denmark_Serbia-0-41-40\"\n",
    "\n",
    "# Run the player\n",
    "app = QApplication(sys.argv)\n",
    "player = VideoPlayer()\n",
    "player.load_clips(p)\n",
    "player.show()\n",
    "sys.exit(app.exec_())\n",
    "\n",
    "# BASELINE\n",
    "#    Unnamed: 0        match_name  Time [s] half_team        Time Min  rating\n",
    "# 0      534276   Germany_Denmark   4149.76        2H  1:09:09.760000       0\n",
    "# 1      198396   Denmark_England   2203.96        1H  0:36:43.960000       0\n",
    "# 2      310752    Denmark_Serbia   1043.52        1H  0:17:23.520000       0\n",
    "# 3       12444  Slovenia_Denmark    497.76        1H  0:08:17.760000       0\n",
    "# 4      534288   Germany_Denmark   4150.24        2H  1:09:10.240000       0\n",
    "# 5      310776    Denmark_Serbia   1044.48        1H  0:17:24.480000       0\n",
    "# 6      150324   Denmark_England    281.08        1H  0:04:41.080000       0\n",
    "# 7      104952  Slovenia_Denmark   4137.44        2H  1:08:57.440000       0\n",
    "# 8      181908   Denmark_England   1544.44        1H  0:25:44.440000       0\n",
    "# 9      150336   Denmark_England    281.56        1H  0:04:41.560000       0\n",
    "\n",
    "# BEST\n",
    "#    Unnamed: 0        match_name  Time [s] half_team        Time Min  rating\n",
    "# 0      189912   Denmark_England   1864.60        1H  0:31:04.600000       0\n",
    "# 1      331872    Denmark_Serbia   1888.32        1H  0:31:28.320000       0\n",
    "# 2      435768   Germany_Denmark    279.12        1H  0:04:39.120000       0\n",
    "# 3      511620   Germany_Denmark   3243.52        2H  0:54:03.520000       0\n",
    "# 4      174636   Denmark_England   1253.56        1H  0:20:53.560000       0\n",
    "# 5      374364    Denmark_Serbia   3529.72        2H  0:58:49.720000       0\n",
    "# 6       45828  Slovenia_Denmark   1833.12        1H  0:30:33.120000       0\n",
    "# 7      393528    Denmark_Serbia   4296.28        2H  1:11:36.280000       1\n",
    "# 8      291420    Denmark_Serbia    270.24        1H  0:04:30.240000       0\n",
    "# 9      297408    Denmark_Serbia    509.76        1H  0:08:29.760000       0"
   ]
  },
  {
   "cell_type": "code",
   "execution_count": null,
   "metadata": {},
   "outputs": [
    {
     "name": "stderr",
     "output_type": "stream",
     "text": [
      "2024-12-13 14:37:13.638 python[10449:266899] +[IMKClient subclass]: chose IMKClient_Modern\n",
      "2024-12-13 14:37:13.638 python[10449:266899] +[IMKInputSession subclass]: chose IMKInputSession_Modern\n"
     ]
    },
    {
     "name": "stdout",
     "output_type": "stream",
     "text": [
      "VLC player successfully linked to video widget.\n",
      "Starting playback: Denmark_England, 1H @ 445.9s\n"
     ]
    },
    {
     "name": "stderr",
     "output_type": "stream",
     "text": [
      "[0000000162f33b80] videotoolbox decoder: Using Video Toolbox to decode 'h264'\n",
      "[0000000162f33b80] videotoolbox decoder: vt cvpx chroma: 420v\n"
     ]
    },
    {
     "name": "stdout",
     "output_type": "stream",
     "text": [
      "Seeked to 445.9s, Player state: State.Playing\n",
      "Starting playback: Germany_Denmark, 2H @ 6348.92s\n"
     ]
    },
    {
     "name": "stderr",
     "output_type": "stream",
     "text": [
      "[000000015f971100] videotoolbox decoder: Using Video Toolbox to decode 'h264'\n",
      "[000000015f971100] videotoolbox decoder: vt cvpx chroma: 420v\n"
     ]
    },
    {
     "name": "stdout",
     "output_type": "stream",
     "text": [
      "Seeked to 6348.92s, Player state: State.Playing\n",
      "Starting playback: Germany_Denmark, 1H @ 319.5s\n"
     ]
    },
    {
     "name": "stderr",
     "output_type": "stream",
     "text": [
      "[000000015f9ec840] videotoolbox decoder: Using Video Toolbox to decode 'h264'\n",
      "[000000015f9ec840] videotoolbox decoder: vt cvpx chroma: 420v\n"
     ]
    },
    {
     "name": "stdout",
     "output_type": "stream",
     "text": [
      "Seeked to 319.5s, Player state: State.Playing\n",
      "Starting playback: Denmark_Serbia, 1H @ 2635.36s\n"
     ]
    },
    {
     "name": "stderr",
     "output_type": "stream",
     "text": [
      "[000000015f92aa70] videotoolbox decoder: Using Video Toolbox to decode 'h264'\n",
      "[000000015f92aa70] videotoolbox decoder: vt cvpx chroma: 420v\n"
     ]
    },
    {
     "name": "stdout",
     "output_type": "stream",
     "text": [
      "Seeked to 2635.36s, Player state: State.Playing\n",
      "Starting playback: Denmark_England, 2H @ 5562.64s\n"
     ]
    },
    {
     "name": "stderr",
     "output_type": "stream",
     "text": [
      "[000000015f957d70] videotoolbox decoder: Using Video Toolbox to decode 'h264'\n",
      "[000000015f957d70] videotoolbox decoder: vt cvpx chroma: 420v\n"
     ]
    },
    {
     "name": "stdout",
     "output_type": "stream",
     "text": [
      "Seeked to 5562.64s, Player state: State.Playing\n",
      "Starting playback: Denmark_England, 2H @ 5564.08s\n"
     ]
    },
    {
     "name": "stderr",
     "output_type": "stream",
     "text": [
      "[000000015f9e25a0] videotoolbox decoder: Using Video Toolbox to decode 'h264'\n",
      "[000000015f9e25a0] videotoolbox decoder: vt cvpx chroma: 420v\n"
     ]
    },
    {
     "name": "stdout",
     "output_type": "stream",
     "text": [
      "Seeked to 5564.08s, Player state: State.Playing\n",
      "Starting playback: Denmark_England, 1H @ 1374.5800000000002s\n"
     ]
    },
    {
     "name": "stderr",
     "output_type": "stream",
     "text": [
      "[000000015f9eb1d0] videotoolbox decoder: Using Video Toolbox to decode 'h264'\n",
      "[000000015f9eb1d0] videotoolbox decoder: vt cvpx chroma: 420v\n"
     ]
    },
    {
     "name": "stdout",
     "output_type": "stream",
     "text": [
      "Seeked to 1374.5800000000002s, Player state: State.Playing\n",
      "Starting playback: Denmark_England, 2H @ 5564.56s\n"
     ]
    },
    {
     "name": "stderr",
     "output_type": "stream",
     "text": [
      "[000000015fa37eb0] videotoolbox decoder: Using Video Toolbox to decode 'h264'\n",
      "[000000015fa37eb0] videotoolbox decoder: vt cvpx chroma: 420v\n"
     ]
    },
    {
     "name": "stdout",
     "output_type": "stream",
     "text": [
      "Seeked to 5564.56s, Player state: State.Playing\n",
      "Starting playback: Denmark_England, 2H @ 5563.12s\n"
     ]
    },
    {
     "name": "stderr",
     "output_type": "stream",
     "text": [
      "[000000015fa37d60] videotoolbox decoder: Using Video Toolbox to decode 'h264'\n",
      "[000000015fa37d60] videotoolbox decoder: vt cvpx chroma: 420v\n"
     ]
    },
    {
     "name": "stdout",
     "output_type": "stream",
     "text": [
      "Seeked to 5563.12s, Player state: State.Playing\n",
      "Starting playback: Denmark_England, 2H @ 5565.04s\n"
     ]
    },
    {
     "name": "stderr",
     "output_type": "stream",
     "text": [
      "[000000015fa439a0] videotoolbox decoder: Using Video Toolbox to decode 'h264'\n",
      "[000000015fa439a0] videotoolbox decoder: vt cvpx chroma: 420v\n"
     ]
    },
    {
     "name": "stdout",
     "output_type": "stream",
     "text": [
      "Seeked to 5565.04s, Player state: State.Playing\n",
      "Starting playback: Denmark_England, 2H @ 5563.6s\n"
     ]
    },
    {
     "name": "stderr",
     "output_type": "stream",
     "text": [
      "[000000015fa65670] videotoolbox decoder: Using Video Toolbox to decode 'h264'\n",
      "[000000015fa65670] videotoolbox decoder: vt cvpx chroma: 420v\n"
     ]
    },
    {
     "name": "stdout",
     "output_type": "stream",
     "text": [
      "Seeked to 5563.6s, Player state: State.Playing\n",
      "Ratings saved to DataFrame:\n",
      "   Unnamed: 0       match_name  Time [s] half_team        Time Min  rating\n",
      "0      525480  Germany_Denmark   3797.92        2H  1:03:17.920000       0\n",
      "1      436680  Germany_Denmark    315.60        1H  0:05:15.600000       0\n",
      "2      350448   Denmark_Serbia   2631.36        1H  0:43:51.360000       0\n",
      "3      257904  Denmark_England   4516.64        2H  1:15:16.640000       0\n",
      "4      257940  Denmark_England   4518.08        2H  1:15:18.080000       0\n",
      "5      177564  Denmark_England   1370.68        1H  0:22:50.680000       0\n",
      "6      257952  Denmark_England   4518.56        2H  1:15:18.560000       0\n",
      "7      257916  Denmark_England   4517.12        2H  1:15:17.120000       0\n",
      "8      257964  Denmark_England   4519.04        2H  1:15:19.040000       0\n",
      "9      257928  Denmark_England   4517.60        2H  1:15:17.600000       0\n"
     ]
    },
    {
     "ename": "SystemExit",
     "evalue": "0",
     "output_type": "error",
     "traceback": [
      "An exception has occurred, use %tb to see the full traceback.\n",
      "\u001b[0;31mSystemExit\u001b[0m\u001b[0;31m:\u001b[0m 0\n"
     ]
    },
    {
     "name": "stderr",
     "output_type": "stream",
     "text": [
      "/Users/lamp/.pyenv/versions/vlc-lib/lib/python3.10/site-packages/IPython/core/interactiveshell.py:3585: UserWarning: To exit: use 'exit', 'quit', or Ctrl-D.\n",
      "  warn(\"To exit: use 'exit', 'quit', or Ctrl-D.\", stacklevel=1)\n"
     ]
    }
   ],
   "source": [
    "p = \"til_Lasse_4/Til_LASSE_breakthrough-wb-Denmark_England-0-07-22\"\n",
    "\n",
    "# Run the player\n",
    "app = QApplication(sys.argv)\n",
    "player = VideoPlayer()\n",
    "player.load_clips(p)\n",
    "player.show()\n",
    "sys.exit(app.exec_())\n",
    "\n",
    "# BASELINE\n",
    "#    Unnamed: 0       match_name  Time [s] half_team        Time Min  rating\n",
    "# 0      525480  Germany_Denmark   3797.92        2H  1:03:17.920000       0\n",
    "# 1      436680  Germany_Denmark    315.60        1H  0:05:15.600000       0\n",
    "# 2      350448   Denmark_Serbia   2631.36        1H  0:43:51.360000       0\n",
    "# 3      257904  Denmark_England   4516.64        2H  1:15:16.640000       0\n",
    "# 4      257940  Denmark_England   4518.08        2H  1:15:18.080000       0\n",
    "# 5      177564  Denmark_England   1370.68        1H  0:22:50.680000       0\n",
    "# 6      257952  Denmark_England   4518.56        2H  1:15:18.560000       0\n",
    "# 7      257916  Denmark_England   4517.12        2H  1:15:17.120000       0\n",
    "# 8      257964  Denmark_England   4519.04        2H  1:15:19.040000       0\n",
    "# 9      257928  Denmark_England   4517.60        2H  1:15:17.600000       0\n",
    "\n",
    "# BEST\n",
    "#    Unnamed: 0        match_name  Time [s] half_team        Time Min  rating\n",
    "# 0       97896  Slovenia_Denmark   3855.20        2H  1:04:15.200000       0\n",
    "# 1      187848   Denmark_England   1782.04        1H  0:29:42.040000       1\n",
    "# 2      137736  Slovenia_Denmark   5448.80        2H  1:30:48.800000       1\n",
    "# 3      408156    Denmark_Serbia   4881.40        2H  1:21:21.400000       0\n",
    "# 4      501864   Germany_Denmark   2853.28        2H  0:47:33.280000       0\n",
    "# 5      173868   Denmark_England   1222.84        1H  0:20:22.840000       1\n",
    "# 6      378972    Denmark_Serbia   3714.04        2H  1:01:54.040000       0\n",
    "# 7       52500  Slovenia_Denmark   2100.00        1H         0:35:00       1\n",
    "# 8      139692  Slovenia_Denmark   5527.04        2H  1:32:07.040000       0\n",
    "# 9      246396   Denmark_England   4056.32        2H  1:07:36.320000       0"
   ]
  },
  {
   "cell_type": "code",
   "execution_count": 3,
   "metadata": {},
   "outputs": [
    {
     "name": "stderr",
     "output_type": "stream",
     "text": [
      "2024-12-13 14:30:19.890 python[10092:258017] +[IMKClient subclass]: chose IMKClient_Modern\n",
      "2024-12-13 14:30:19.891 python[10092:258017] +[IMKInputSession subclass]: chose IMKInputSession_Modern\n"
     ]
    },
    {
     "name": "stdout",
     "output_type": "stream",
     "text": [
      "VLC player successfully linked to video widget.\n",
      "Starting playback: Denmark_Serbia, 1H @ 930s\n"
     ]
    },
    {
     "name": "stderr",
     "output_type": "stream",
     "text": [
      "[000000012cabf310] videotoolbox decoder: Using Video Toolbox to decode 'h264'\n",
      "[000000012cabf310] videotoolbox decoder: vt cvpx chroma: 420v\n"
     ]
    },
    {
     "name": "stdout",
     "output_type": "stream",
     "text": [
      "Seeked to 930s, Player state: State.Playing\n",
      "Starting playback: Denmark_Serbia, 2H @ 6326.12s\n"
     ]
    },
    {
     "name": "stderr",
     "output_type": "stream",
     "text": [
      "[000000013e1cb050] videotoolbox decoder: Using Video Toolbox to decode 'h264'\n",
      "[000000013e1cb050] videotoolbox decoder: vt cvpx chroma: 420v\n"
     ]
    },
    {
     "name": "stdout",
     "output_type": "stream",
     "text": [
      "Seeked to 6326.12s, Player state: State.Playing\n",
      "Starting playback: Denmark_Serbia, 1H @ 85.12s\n"
     ]
    },
    {
     "name": "stderr",
     "output_type": "stream",
     "text": [
      "[000000012e233830] videotoolbox decoder: Using Video Toolbox to decode 'h264'\n",
      "[000000012e233830] videotoolbox decoder: vt cvpx chroma: 420v\n"
     ]
    },
    {
     "name": "stdout",
     "output_type": "stream",
     "text": [
      "Seeked to 85.12s, Player state: State.Playing\n",
      "Starting playback: Denmark_Serbia, 2H @ 4421.96s\n"
     ]
    },
    {
     "name": "stderr",
     "output_type": "stream",
     "text": [
      "[000000013aab74e0] videotoolbox decoder: Using Video Toolbox to decode 'h264'\n",
      "[000000013aab74e0] videotoolbox decoder: vt cvpx chroma: 420v\n"
     ]
    },
    {
     "name": "stdout",
     "output_type": "stream",
     "text": [
      "Seeked to 4421.96s, Player state: State.Playing\n",
      "Starting playback: Slovenia_Denmark, 1H @ 1562.72s\n"
     ]
    },
    {
     "name": "stderr",
     "output_type": "stream",
     "text": [
      "[000000013aa5f3b0] videotoolbox decoder: Using Video Toolbox to decode 'h264'\n",
      "[000000013aa5f3b0] videotoolbox decoder: vt cvpx chroma: 420v\n"
     ]
    },
    {
     "name": "stdout",
     "output_type": "stream",
     "text": [
      "Seeked to 1562.72s, Player state: State.Playing\n",
      "Starting playback: Germany_Denmark, 2H @ 6701.24s\n"
     ]
    },
    {
     "name": "stderr",
     "output_type": "stream",
     "text": [
      "[000000012ff43150] videotoolbox decoder: Using Video Toolbox to decode 'h264'\n",
      "[000000012ff43150] videotoolbox decoder: vt cvpx chroma: 420v\n"
     ]
    },
    {
     "name": "stdout",
     "output_type": "stream",
     "text": [
      "Seeked to 6701.24s, Player state: State.Playing\n",
      "Starting playback: Germany_Denmark, 2H @ 5265.08s\n"
     ]
    },
    {
     "name": "stderr",
     "output_type": "stream",
     "text": [
      "[000000012ff41590] videotoolbox decoder: Using Video Toolbox to decode 'h264'\n",
      "[000000012ff41590] videotoolbox decoder: vt cvpx chroma: 420v\n"
     ]
    },
    {
     "name": "stdout",
     "output_type": "stream",
     "text": [
      "Seeked to 5265.08s, Player state: State.Playing\n",
      "Starting playback: Denmark_England, 2H @ 4022.8s\n"
     ]
    },
    {
     "name": "stderr",
     "output_type": "stream",
     "text": [
      "[000000013aa42db0] videotoolbox decoder: Using Video Toolbox to decode 'h264'\n",
      "[000000013aa42db0] videotoolbox decoder: vt cvpx chroma: 420v\n"
     ]
    },
    {
     "name": "stdout",
     "output_type": "stream",
     "text": [
      "Seeked to 4022.8s, Player state: State.Playing\n",
      "Starting playback: Denmark_Serbia, 2H @ 4974.4400000000005s\n"
     ]
    },
    {
     "name": "stderr",
     "output_type": "stream",
     "text": [
      "[000000012ff83e20] videotoolbox decoder: Using Video Toolbox to decode 'h264'\n",
      "[000000012ff83e20] videotoolbox decoder: vt cvpx chroma: 420v\n"
     ]
    },
    {
     "name": "stdout",
     "output_type": "stream",
     "text": [
      "Seeked to 4974.4400000000005s, Player state: State.Playing\n",
      "Starting playback: Germany_Denmark, 1H @ 1094.7s\n"
     ]
    },
    {
     "name": "stderr",
     "output_type": "stream",
     "text": [
      "[000000012ff61310] videotoolbox decoder: Using Video Toolbox to decode 'h264'\n",
      "[000000012ff61310] videotoolbox decoder: vt cvpx chroma: 420v\n"
     ]
    },
    {
     "name": "stdout",
     "output_type": "stream",
     "text": [
      "Seeked to 1094.7s, Player state: State.Playing\n",
      "Starting playback: Denmark_England, 2H @ 3760.24s\n"
     ]
    },
    {
     "name": "stderr",
     "output_type": "stream",
     "text": [
      "[000000012ff24580] videotoolbox decoder: Using Video Toolbox to decode 'h264'\n",
      "[000000012ff24580] videotoolbox decoder: vt cvpx chroma: 420v\n"
     ]
    },
    {
     "name": "stdout",
     "output_type": "stream",
     "text": [
      "Seeked to 3760.24s, Player state: State.Playing\n",
      "Ratings saved to DataFrame:\n",
      "   Unnamed: 0        match_name  Time [s] half_team        Time Min  rating\n",
      "0      418224    Denmark_Serbia   5284.12        2H  1:28:04.120000       0\n",
      "1      286692    Denmark_Serbia     81.12        1H  0:01:21.120000       0\n",
      "2      370620    Denmark_Serbia   3379.96        2H  0:56:19.960000       0\n",
      "3       38988  Slovenia_Denmark   1559.52        1H  0:25:59.520000       1\n",
      "4      534288   Germany_Denmark   4150.24        2H  1:09:10.240000       1\n",
      "5      498384   Germany_Denmark   2714.08        2H  0:45:14.080000       0\n",
      "6      219408   Denmark_England   2976.80        2H  0:49:36.800000       0\n",
      "7      384432    Denmark_Serbia   3932.44        2H  1:05:32.440000       0\n",
      "8      456060   Germany_Denmark   1090.80        1H  0:18:10.800000       0\n",
      "9      212844   Denmark_England   2714.24        2H  0:45:14.240000       0\n"
     ]
    },
    {
     "ename": "SystemExit",
     "evalue": "0",
     "output_type": "error",
     "traceback": [
      "An exception has occurred, use %tb to see the full traceback.\n",
      "\u001b[0;31mSystemExit\u001b[0m\u001b[0;31m:\u001b[0m 0\n"
     ]
    },
    {
     "name": "stderr",
     "output_type": "stream",
     "text": [
      "/Users/lamp/.pyenv/versions/vlc-lib/lib/python3.10/site-packages/IPython/core/interactiveshell.py:3585: UserWarning: To exit: use 'exit', 'quit', or Ctrl-D.\n",
      "  warn(\"To exit: use 'exit', 'quit', or Ctrl-D.\", stacklevel=1)\n"
     ]
    }
   ],
   "source": [
    "p = \"til_Lasse_4/Til_LASSE_breakthrough-space-Denmark_Serbia-0-15-26\"\n",
    "\n",
    "# Run the player\n",
    "app = QApplication(sys.argv)\n",
    "player = VideoPlayer()\n",
    "player.load_clips(p)\n",
    "player.show()\n",
    "sys.exit(app.exec_())\n",
    "\n",
    "# BASELINE\n",
    "#    Unnamed: 0        match_name  Time [s] half_team        Time Min  rating\n",
    "# 0       69888  Slovenia_Denmark   2734.88        2H  0:45:34.880000       0\n",
    "# 1      429120   Germany_Denmark     13.20        1H  0:00:13.200000       0\n",
    "# 2      465600   Germany_Denmark   1472.40        1H  0:24:32.400000       0\n",
    "# 3       69876  Slovenia_Denmark   2734.40        2H  0:45:34.400000       0\n",
    "# 4      465624   Germany_Denmark   1473.36        1H  0:24:33.360000       0\n",
    "# 5      465648   Germany_Denmark   1474.32        1H  0:24:34.320000       0\n",
    "# 6       69864  Slovenia_Denmark   2733.92        2H  0:45:33.920000       0\n",
    "# 7      465612   Germany_Denmark   1472.88        1H  0:24:32.880000       0\n",
    "# 8      429108   Germany_Denmark     12.72        1H  0:00:12.720000       0\n",
    "# 9      465636   Germany_Denmark   1473.84        1H  0:24:33.840000       0\n",
    "\n",
    "# BEST\n",
    "#    Unnamed: 0        match_name  Time [s] half_team        Time Min  rating\n",
    "# 0      418224    Denmark_Serbia   5284.12        2H  1:28:04.120000       0\n",
    "# 1      286692    Denmark_Serbia     81.12        1H  0:01:21.120000       0\n",
    "# 2      370620    Denmark_Serbia   3379.96        2H  0:56:19.960000       0\n",
    "# 3       38988  Slovenia_Denmark   1559.52        1H  0:25:59.520000       1\n",
    "# 4      534288   Germany_Denmark   4150.24        2H  1:09:10.240000       1\n",
    "# 5      498384   Germany_Denmark   2714.08        2H  0:45:14.080000       0\n",
    "# 6      219408   Denmark_England   2976.80        2H  0:49:36.800000       0\n",
    "# 7      384432    Denmark_Serbia   3932.44        2H  1:05:32.440000       0\n",
    "# 8      456060   Germany_Denmark   1090.80        1H  0:18:10.800000       0\n",
    "# 9      212844   Denmark_England   2714.24        2H  0:45:14.240000       0"
   ]
  },
  {
   "cell_type": "code",
   "execution_count": 3,
   "metadata": {},
   "outputs": [
    {
     "name": "stderr",
     "output_type": "stream",
     "text": [
      "2024-12-13 14:25:06.102 python[9985:252103] +[IMKClient subclass]: chose IMKClient_Modern\n",
      "2024-12-13 14:25:06.102 python[9985:252103] +[IMKInputSession subclass]: chose IMKInputSession_Modern\n"
     ]
    },
    {
     "name": "stdout",
     "output_type": "stream",
     "text": [
      "VLC player successfully linked to video widget.\n",
      "Starting playback: Denmark_England, 1H @ 1513.3000000000002s\n"
     ]
    },
    {
     "name": "stderr",
     "output_type": "stream",
     "text": [
      "[000000013f6a84c0] videotoolbox decoder: Using Video Toolbox to decode 'h264'\n",
      "[000000013f6a84c0] videotoolbox decoder: vt cvpx chroma: 420v\n"
     ]
    },
    {
     "name": "stdout",
     "output_type": "stream",
     "text": [
      "Seeked to 1513.3000000000002s, Player state: State.Playing\n",
      "Starting playback: Denmark_England, 2H @ 5382.16s\n"
     ]
    },
    {
     "name": "stderr",
     "output_type": "stream",
     "text": [
      "[000000013c873ec0] videotoolbox decoder: Using Video Toolbox to decode 'h264'\n",
      "[000000013c873ec0] videotoolbox decoder: vt cvpx chroma: 420v\n"
     ]
    },
    {
     "name": "stdout",
     "output_type": "stream",
     "text": [
      "Seeked to 5382.16s, Player state: State.Playing\n",
      "Starting playback: Slovenia_Denmark, 2H @ 5030.8s\n"
     ]
    },
    {
     "name": "stderr",
     "output_type": "stream",
     "text": [
      "[000000013c880f50] videotoolbox decoder: Using Video Toolbox to decode 'h264'\n",
      "[000000013c880f50] videotoolbox decoder: vt cvpx chroma: 420v\n"
     ]
    },
    {
     "name": "stdout",
     "output_type": "stream",
     "text": [
      "Seeked to 5030.8s, Player state: State.Playing\n",
      "Starting playback: Germany_Denmark, 2H @ 6717.56s\n"
     ]
    },
    {
     "name": "stderr",
     "output_type": "stream",
     "text": [
      "[000000013cd2bc70] videotoolbox decoder: Using Video Toolbox to decode 'h264'\n",
      "[000000013cd2bc70] videotoolbox decoder: vt cvpx chroma: 420v\n"
     ]
    },
    {
     "name": "stdout",
     "output_type": "stream",
     "text": [
      "Seeked to 6717.56s, Player state: State.Playing\n",
      "Starting playback: Denmark_Serbia, 1H @ 1015.36s\n"
     ]
    },
    {
     "name": "stderr",
     "output_type": "stream",
     "text": [
      "[000000013c876340] videotoolbox decoder: Using Video Toolbox to decode 'h264'\n",
      "[000000013c876340] videotoolbox decoder: vt cvpx chroma: 420v\n"
     ]
    },
    {
     "name": "stdout",
     "output_type": "stream",
     "text": [
      "Seeked to 1015.36s, Player state: State.Playing\n",
      "Starting playback: Denmark_England, 2H @ 4985.68s\n"
     ]
    },
    {
     "name": "stderr",
     "output_type": "stream",
     "text": [
      "[000000013c8cd120] videotoolbox decoder: Using Video Toolbox to decode 'h264'\n",
      "[000000013c8cd120] videotoolbox decoder: vt cvpx chroma: 420v\n"
     ]
    },
    {
     "name": "stdout",
     "output_type": "stream",
     "text": [
      "Seeked to 4985.68s, Player state: State.Playing\n",
      "Starting playback: Denmark_England, 1H @ 1316.98s\n"
     ]
    },
    {
     "name": "stderr",
     "output_type": "stream",
     "text": [
      "[000000013c8aa500] videotoolbox decoder: Using Video Toolbox to decode 'h264'\n",
      "[000000013c8aa500] videotoolbox decoder: vt cvpx chroma: 420v\n"
     ]
    },
    {
     "name": "stdout",
     "output_type": "stream",
     "text": [
      "Seeked to 1316.98s, Player state: State.Playing\n",
      "Starting playback: Slovenia_Denmark, 1H @ 105.92s\n"
     ]
    },
    {
     "name": "stderr",
     "output_type": "stream",
     "text": [
      "[000000013c8a62f0] videotoolbox decoder: Using Video Toolbox to decode 'h264'\n",
      "[000000013c8a62f0] videotoolbox decoder: vt cvpx chroma: 420v\n"
     ]
    },
    {
     "name": "stdout",
     "output_type": "stream",
     "text": [
      "Seeked to 105.92s, Player state: State.Playing\n",
      "Starting playback: Denmark_England, 1H @ 2324.98s\n"
     ]
    },
    {
     "name": "stderr",
     "output_type": "stream",
     "text": [
      "[000000013c87de00] videotoolbox decoder: Using Video Toolbox to decode 'h264'\n",
      "[000000013c87de00] videotoolbox decoder: vt cvpx chroma: 420v\n"
     ]
    },
    {
     "name": "stdout",
     "output_type": "stream",
     "text": [
      "Seeked to 2324.98s, Player state: State.Playing\n",
      "Starting playback: Slovenia_Denmark, 1H @ 2329.7599999999998s\n"
     ]
    },
    {
     "name": "stderr",
     "output_type": "stream",
     "text": [
      "[000000013c80f770] videotoolbox decoder: Using Video Toolbox to decode 'h264'\n",
      "[000000013c80f770] videotoolbox decoder: vt cvpx chroma: 420v\n"
     ]
    },
    {
     "name": "stdout",
     "output_type": "stream",
     "text": [
      "Seeked to 2329.7599999999998s, Player state: State.Playing\n",
      "Ratings saved to DataFrame:\n",
      "   Unnamed: 0        match_name  Time [s] half_team        Time Min  rating\n",
      "0      181032   Denmark_England   1509.40        1H  0:25:09.400000       0\n",
      "1      253392   Denmark_England   4336.16        2H  1:12:16.160000       0\n",
      "2      102036  Slovenia_Denmark   4020.80        2H  1:07:00.800000       0\n",
      "3      534696   Germany_Denmark   4166.56        2H  1:09:26.560000       0\n",
      "4      309948    Denmark_Serbia   1011.36        1H  0:16:51.360000       0\n",
      "5      243480   Denmark_England   3939.68        2H  1:05:39.680000       1\n",
      "6      176124   Denmark_England   1313.08        1H  0:21:53.080000       0\n",
      "7        2568  Slovenia_Denmark    102.72        1H  0:01:42.720000       0\n",
      "8      201324   Denmark_England   2321.08        1H  0:38:41.080000       0\n",
      "9       58164  Slovenia_Denmark   2326.56        1H  0:38:46.560000       0\n"
     ]
    },
    {
     "ename": "SystemExit",
     "evalue": "0",
     "output_type": "error",
     "traceback": [
      "An exception has occurred, use %tb to see the full traceback.\n",
      "\u001b[0;31mSystemExit\u001b[0m\u001b[0;31m:\u001b[0m 0\n"
     ]
    },
    {
     "name": "stderr",
     "output_type": "stream",
     "text": [
      "/Users/lamp/.pyenv/versions/vlc-lib/lib/python3.10/site-packages/IPython/core/interactiveshell.py:3585: UserWarning: To exit: use 'exit', 'quit', or Ctrl-D.\n",
      "  warn(\"To exit: use 'exit', 'quit', or Ctrl-D.\", stacklevel=1)\n"
     ]
    }
   ],
   "source": [
    "p = \"til_Lasse_4/Til_LASSE_breakthrough-space-Denmark_England-0-30-51\"\n",
    "\n",
    "# Run the player\n",
    "app = QApplication(sys.argv)\n",
    "player = VideoPlayer()\n",
    "player.load_clips(p)\n",
    "player.show()\n",
    "sys.exit(app.exec_())\n",
    "\n",
    "# BASELINE\n",
    "#    Unnamed: 0        match_name  Time [s] half_team        Time Min  rating\n",
    "# 0      160344   Denmark_England    681.88        1H  0:11:21.880000       0\n",
    "# 1      112464  Slovenia_Denmark   4437.92        2H  1:13:57.920000       0\n",
    "# 2      360168    Denmark_Serbia   2961.88        2H  0:49:21.880000       0\n",
    "# 3      500460   Germany_Denmark   2797.12        2H  0:46:37.120000       0\n",
    "# 4      160356   Denmark_England    682.36        1H  0:11:22.360000       0\n",
    "# 5      360192    Denmark_Serbia   2962.84        2H  0:49:22.840000       0\n",
    "# 6      160332   Denmark_England    681.40        1H  0:11:21.400000       0\n",
    "# 7      500448   Germany_Denmark   2796.64        2H  0:46:36.640000       0\n",
    "# 8      360156    Denmark_Serbia   2961.40        2H  0:49:21.400000       0\n",
    "# 9      360180    Denmark_Serbia   2962.36        2H  0:49:22.360000       0\n",
    "\n",
    "# BEST \n",
    "#    Unnamed: 0        match_name  Time [s] half_team        Time Min  rating\n",
    "# 0      181032   Denmark_England   1509.40        1H  0:25:09.400000       0\n",
    "# 1      253392   Denmark_England   4336.16        2H  1:12:16.160000       0\n",
    "# 2      102036  Slovenia_Denmark   4020.80        2H  1:07:00.800000       0\n",
    "# 3      534696   Germany_Denmark   4166.56        2H  1:09:26.560000       0\n",
    "# 4      309948    Denmark_Serbia   1011.36        1H  0:16:51.360000       0\n",
    "# 5      243480   Denmark_England   3939.68        2H  1:05:39.680000       1\n",
    "# 6      176124   Denmark_England   1313.08        1H  0:21:53.080000       0\n",
    "# 7        2568  Slovenia_Denmark    102.72        1H  0:01:42.720000       0\n",
    "# 8      201324   Denmark_England   2321.08        1H  0:38:41.080000       0\n",
    "# 9       58164  Slovenia_Denmark   2326.56        1H  0:38:46.560000       0"
   ]
  },
  {
   "cell_type": "code",
   "execution_count": null,
   "metadata": {},
   "outputs": [
    {
     "name": "stderr",
     "output_type": "stream",
     "text": [
      "2024-12-13 14:14:12.415 python[9801:240349] +[IMKClient subclass]: chose IMKClient_Modern\n",
      "2024-12-13 14:14:12.415 python[9801:240349] +[IMKInputSession subclass]: chose IMKInputSession_Modern\n"
     ]
    },
    {
     "name": "stdout",
     "output_type": "stream",
     "text": [
      "VLC player successfully linked to video widget.\n",
      "Starting playback: Denmark_Serbia, 2H @ 3902s\n"
     ]
    },
    {
     "name": "stderr",
     "output_type": "stream",
     "text": [
      "[0000000117d78260] videotoolbox decoder: Using Video Toolbox to decode 'h264'\n",
      "[0000000117d78260] videotoolbox decoder: vt cvpx chroma: 420v\n"
     ]
    },
    {
     "name": "stdout",
     "output_type": "stream",
     "text": [
      "Seeked to 3902s, Player state: State.Playing\n",
      "Starting playback: Germany_Denmark, 1H @ 338.7s\n"
     ]
    },
    {
     "name": "stderr",
     "output_type": "stream",
     "text": [
      "[0000000131a820d0] videotoolbox decoder: Using Video Toolbox to decode 'h264'\n",
      "[0000000131a820d0] videotoolbox decoder: vt cvpx chroma: 420v\n"
     ]
    },
    {
     "name": "stdout",
     "output_type": "stream",
     "text": [
      "Seeked to 338.7s, Player state: State.Playing\n",
      "Starting playback: Germany_Denmark, 2H @ 5375.96s\n"
     ]
    },
    {
     "name": "stderr",
     "output_type": "stream",
     "text": [
      "[0000000131a57eb0] videotoolbox decoder: Using Video Toolbox to decode 'h264'\n",
      "[0000000131a57eb0] videotoolbox decoder: vt cvpx chroma: 420v\n"
     ]
    },
    {
     "name": "stdout",
     "output_type": "stream",
     "text": [
      "Seeked to 5375.96s, Player state: State.Playing\n",
      "Starting playback: Denmark_Serbia, 2H @ 6162.44s\n"
     ]
    },
    {
     "name": "stderr",
     "output_type": "stream",
     "text": [
      "[000000010c9f29a0] videotoolbox decoder: Using Video Toolbox to decode 'h264'\n",
      "[000000010c9f29a0] videotoolbox decoder: vt cvpx chroma: 420v\n"
     ]
    },
    {
     "name": "stdout",
     "output_type": "stream",
     "text": [
      "Seeked to 6162.44s, Player state: State.Playing\n",
      "Starting playback: Slovenia_Denmark, 1H @ 1085.6000000000001s\n"
     ]
    },
    {
     "name": "stderr",
     "output_type": "stream",
     "text": [
      "[0000000131a68eb0] videotoolbox decoder: Using Video Toolbox to decode 'h264'\n",
      "[0000000131a68eb0] videotoolbox decoder: vt cvpx chroma: 420v\n"
     ]
    },
    {
     "name": "stdout",
     "output_type": "stream",
     "text": [
      "Seeked to 1085.6000000000001s, Player state: State.Playing\n",
      "Starting playback: Germany_Denmark, 2H @ 7737.08s\n"
     ]
    },
    {
     "name": "stderr",
     "output_type": "stream",
     "text": [
      "[0000000131a72180] videotoolbox decoder: Using Video Toolbox to decode 'h264'\n",
      "[0000000131a72180] videotoolbox decoder: vt cvpx chroma: 420v\n"
     ]
    },
    {
     "name": "stdout",
     "output_type": "stream",
     "text": [
      "Seeked to 7737.08s, Player state: State.Playing\n",
      "Starting playback: Germany_Denmark, 2H @ 6856.76s\n"
     ]
    },
    {
     "name": "stderr",
     "output_type": "stream",
     "text": [
      "[0000000131a49800] videotoolbox decoder: Using Video Toolbox to decode 'h264'\n",
      "[0000000131a49800] videotoolbox decoder: vt cvpx chroma: 420v\n"
     ]
    },
    {
     "name": "stdout",
     "output_type": "stream",
     "text": [
      "Seeked to 6856.76s, Player state: State.Playing\n",
      "Starting playback: Slovenia_Denmark, 1H @ 486.56s\n"
     ]
    },
    {
     "name": "stderr",
     "output_type": "stream",
     "text": [
      "[0000000135bac8a0] videotoolbox decoder: Using Video Toolbox to decode 'h264'\n",
      "[0000000135bac8a0] videotoolbox decoder: vt cvpx chroma: 420v\n"
     ]
    },
    {
     "name": "stdout",
     "output_type": "stream",
     "text": [
      "Seeked to 486.56s, Player state: State.Playing\n",
      "Starting playback: Denmark_England, 2H @ 6010.96s\n"
     ]
    },
    {
     "name": "stderr",
     "output_type": "stream",
     "text": [
      "[0000000131ad6a70] videotoolbox decoder: Using Video Toolbox to decode 'h264'\n",
      "[0000000131ad6a70] videotoolbox decoder: vt cvpx chroma: 420v\n"
     ]
    },
    {
     "name": "stdout",
     "output_type": "stream",
     "text": [
      "Seeked to 6010.96s, Player state: State.Playing\n",
      "Starting playback: Denmark_England, 1H @ 997.3s\n"
     ]
    },
    {
     "name": "stderr",
     "output_type": "stream",
     "text": [
      "[0000000131a09b30] videotoolbox decoder: Using Video Toolbox to decode 'h264'\n",
      "[0000000131a09b30] videotoolbox decoder: vt cvpx chroma: 420v\n"
     ]
    },
    {
     "name": "stdout",
     "output_type": "stream",
     "text": [
      "Seeked to 997.3s, Player state: State.Playing\n",
      "Starting playback: Denmark_England, 2H @ 5230.96s\n"
     ]
    },
    {
     "name": "stderr",
     "output_type": "stream",
     "text": [
      "[0000000131a6b0e0] videotoolbox decoder: Using Video Toolbox to decode 'h264'\n",
      "[0000000131a6b0e0] videotoolbox decoder: vt cvpx chroma: 420v\n"
     ]
    },
    {
     "name": "stdout",
     "output_type": "stream",
     "text": [
      "Seeked to 5230.96s, Player state: State.Playing\n",
      "Ratings saved to DataFrame:\n",
      "   Unnamed: 0        match_name  Time [s] half_team        Time Min  rating\n",
      "0      437160   Germany_Denmark    334.80        1H  0:05:34.800000       1\n",
      "1      501156   Germany_Denmark   2824.96        2H  0:47:04.960000       0\n",
      "2      414132    Denmark_Serbia   5120.44        2H  1:25:20.440000       1\n",
      "3       27060  Slovenia_Denmark   1082.40        1H  0:18:02.400000       0\n",
      "4      560184   Germany_Denmark   5186.08        2H  1:26:26.080000       1\n",
      "5      538176   Germany_Denmark   4305.76        2H  1:11:45.760000       0\n",
      "6       12084  Slovenia_Denmark    483.36        1H  0:08:03.360000       0\n",
      "7      269112   Denmark_England   4964.96        2H  1:22:44.960000       0\n",
      "8      168132   Denmark_England    993.40        1H  0:16:33.400000       0\n",
      "9      249612   Denmark_England   4184.96        2H  1:09:44.960000       0\n"
     ]
    }
   ],
   "source": [
    "p = \"til_Lasse_4/Til_LASSE_breakthrough-even-Denmark_Serbia-0-47-40\"\n",
    "\n",
    "# Run the player\n",
    "app = QApplication(sys.argv)\n",
    "player = VideoPlayer()\n",
    "player.load_clips(p)\n",
    "player.show()\n",
    "sys.exit(app.exec_())\n",
    "\n",
    "# BASELINE\n",
    "#    Unnamed: 0        match_name  Time [s] half_team        Time Min  rating\n",
    "# 0       70824  Slovenia_Denmark   2772.32        2H  0:46:12.320000       0\n",
    "# 1       28176  Slovenia_Denmark   1127.04        1H  0:18:47.040000       0\n",
    "# 2       28440  Slovenia_Denmark   1137.60        1H  0:18:57.600000       0\n",
    "# 3       70812  Slovenia_Denmark   2771.84        2H  0:46:11.840000       0\n",
    "# 4       28152  Slovenia_Denmark   1126.08        1H  0:18:46.080000       0\n",
    "# 5       70836  Slovenia_Denmark   2772.80        2H  0:46:12.800000       0\n",
    "# 6       28188  Slovenia_Denmark   1127.52        1H  0:18:47.520000       0\n",
    "# 7       28200  Slovenia_Denmark   1128.00        1H         0:18:48       0\n",
    "# 8       28164  Slovenia_Denmark   1126.56        1H  0:18:46.560000       0\n",
    "# 9      192192   Denmark_England   1955.80        1H  0:32:35.800000       0\n",
    "\n",
    "# BEST \n",
    "#    Unnamed: 0        match_name  Time [s] half_team        Time Min  rating\n",
    "# 0      437160   Germany_Denmark    334.80        1H  0:05:34.800000       1\n",
    "# 1      501156   Germany_Denmark   2824.96        2H  0:47:04.960000       0\n",
    "# 2      414132    Denmark_Serbia   5120.44        2H  1:25:20.440000       1\n",
    "# 3       27060  Slovenia_Denmark   1082.40        1H  0:18:02.400000       0\n",
    "# 4      560184   Germany_Denmark   5186.08        2H  1:26:26.080000       1\n",
    "# 5      538176   Germany_Denmark   4305.76        2H  1:11:45.760000       0\n",
    "# 6       12084  Slovenia_Denmark    483.36        1H  0:08:03.360000       0\n",
    "# 7      269112   Denmark_England   4964.96        2H  1:22:44.960000       0\n",
    "# 8      168132   Denmark_England    993.40        1H  0:16:33.400000       0\n",
    "# 9      249612   Denmark_England   4184.96        2H  1:09:44.960000       0"
   ]
  },
  {
   "cell_type": "code",
   "execution_count": 4,
   "metadata": {},
   "outputs": [
    {
     "name": "stderr",
     "output_type": "stream",
     "text": [
      "2024-12-13 14:07:02.653 python[9676:230841] +[IMKClient subclass]: chose IMKClient_Modern\n",
      "2024-12-13 14:07:02.653 python[9676:230841] +[IMKInputSession subclass]: chose IMKInputSession_Modern\n"
     ]
    },
    {
     "name": "stdout",
     "output_type": "stream",
     "text": [
      "VLC player successfully linked to video widget.\n",
      "Starting playback: Denmark_England, 2H @ 3812s\n"
     ]
    },
    {
     "name": "stderr",
     "output_type": "stream",
     "text": [
      "[000000011bb4bb40] videotoolbox decoder: Using Video Toolbox to decode 'h264'\n",
      "[000000011bb4bb40] videotoolbox decoder: vt cvpx chroma: 420v\n"
     ]
    },
    {
     "name": "stdout",
     "output_type": "stream",
     "text": [
      "Seeked to 3812s, Player state: State.Playing\n",
      "Starting playback: Germany_Denmark, 1H @ 1627.02s\n"
     ]
    },
    {
     "name": "stderr",
     "output_type": "stream",
     "text": [
      "[000000015fe46dd0] videotoolbox decoder: Using Video Toolbox to decode 'h264'\n",
      "[000000015fe46dd0] videotoolbox decoder: vt cvpx chroma: 420v\n"
     ]
    },
    {
     "name": "stdout",
     "output_type": "stream",
     "text": [
      "Seeked to 1627.02s, Player state: State.Playing\n"
     ]
    },
    {
     "ename": "KeyboardInterrupt",
     "evalue": "",
     "output_type": "error",
     "traceback": [
      "\u001b[0;31m---------------------------------------------------------------------------\u001b[0m",
      "\u001b[0;31mKeyboardInterrupt\u001b[0m                         Traceback (most recent call last)",
      "Cell \u001b[0;32mIn[4], line 8\u001b[0m\n\u001b[1;32m      6\u001b[0m player\u001b[38;5;241m.\u001b[39mload_clips(p)\n\u001b[1;32m      7\u001b[0m player\u001b[38;5;241m.\u001b[39mshow()\n\u001b[0;32m----> 8\u001b[0m sys\u001b[38;5;241m.\u001b[39mexit(\u001b[43mapp\u001b[49m\u001b[38;5;241;43m.\u001b[39;49m\u001b[43mexec_\u001b[49m\u001b[43m(\u001b[49m\u001b[43m)\u001b[49m)\n\u001b[1;32m     10\u001b[0m \u001b[38;5;66;03m#BASELINE\u001b[39;00m\n\u001b[1;32m     11\u001b[0m \u001b[38;5;66;03m#    Unnamed: 0        match_name  Time [s] half_team        Time Min  rating\u001b[39;00m\n\u001b[1;32m     12\u001b[0m \u001b[38;5;66;03m# 0      546228   Germany_Denmark   4627.84        2H  1:17:07.840000       0\u001b[39;00m\n\u001b[0;32m   (...)\u001b[0m\n\u001b[1;32m     32\u001b[0m \u001b[38;5;66;03m# 8       88476  Slovenia_Denmark   3478.40        2H  0:57:58.400000       1\u001b[39;00m\n\u001b[1;32m     33\u001b[0m \u001b[38;5;66;03m# 9       63708  Slovenia_Denmark   2548.32        1H  0:42:28.320000       0\u001b[39;00m\n",
      "\u001b[0;31mKeyboardInterrupt\u001b[0m: "
     ]
    }
   ],
   "source": [
    "p = \"til_Lasse_4/Til_LASSE_breakthrough-even-Denmark_England-0-46-06\"\n",
    "\n",
    "# Run the player\n",
    "app = QApplication(sys.argv)\n",
    "player = VideoPlayer()\n",
    "player.load_clips(p)\n",
    "player.show()\n",
    "sys.exit(app.exec_())\n",
    "\n",
    "#BASELINE\n",
    "#    Unnamed: 0        match_name  Time [s] half_team        Time Min  rating\n",
    "# 0      546228   Germany_Denmark   4627.84        2H  1:17:07.840000       0\n",
    "# 1      140340  Slovenia_Denmark   5552.96        2H  1:32:32.960000       0\n",
    "# 2      140352  Slovenia_Denmark   5553.44        2H  1:32:33.440000       0\n",
    "# 3      299904    Denmark_Serbia    609.60        1H  0:10:09.600000       0\n",
    "# 4      299892    Denmark_Serbia    609.12        1H  0:10:09.120000       0\n",
    "# 5      538368   Germany_Denmark   4313.44        2H  1:11:53.440000       0\n",
    "# 6      140328  Slovenia_Denmark   5552.48        2H  1:32:32.480000       0\n",
    "# 7      426396    Denmark_Serbia   5611.00        2H         1:33:31       0\n",
    "# 8      285864    Denmark_Serbia     48.00        1H         0:00:48       0\n",
    "# 9       28776  Slovenia_Denmark   1151.04        1H  0:19:11.040000       0\n",
    "\n",
    "# BEST\n",
    "# 0      469368   Germany_Denmark   1623.12        1H  0:27:03.120000       1\n",
    "# 1      560100   Germany_Denmark   5182.72        2H  1:26:22.720000       0\n",
    "# 2      354264    Denmark_Serbia   2725.72        2H  0:45:25.720000       0\n",
    "# 3      151176   Denmark_England    315.16        1H  0:05:15.160000       0\n",
    "# 4      549012   Germany_Denmark   4739.20        2H  1:18:59.200000       0\n",
    "# 5       98520  Slovenia_Denmark   3880.16        2H  1:04:40.160000       0\n",
    "# 6        1236  Slovenia_Denmark     49.44        1H  0:00:49.440000       0\n",
    "# 7      498360   Germany_Denmark   2713.12        2H  0:45:13.120000       1\n",
    "# 8       88476  Slovenia_Denmark   3478.40        2H  0:57:58.400000       1\n",
    "# 9       63708  Slovenia_Denmark   2548.32        1H  0:42:28.320000       0"
   ]
  },
  {
   "cell_type": "code",
   "execution_count": null,
   "metadata": {},
   "outputs": [
    {
     "name": "stderr",
     "output_type": "stream",
     "text": [
      "[000000013c4ddcb0] auhal audio output error: AudioObjectAddPropertyListener failed, device id 106, prop: [atfp], OSStatus: 1852797029\n",
      "[000000013c4ddcb0] auhal audio output error: AudioObjectAddPropertyListener failed, device id 125, prop: [atfp], OSStatus: 1852797029\n",
      "[000000013c4ddcb0] auhal audio output error: AudioObjectAddPropertyListener failed, device id 76, prop: [atfp], OSStatus: 1852797029\n",
      "[000000013c4ddcb0] auhal audio output error: AudioObjectAddPropertyListener failed, device id 88, prop: [atfp], OSStatus: 1852797029\n",
      "[000000011b542d80] auhal audio output error: AudioObjectAddPropertyListener failed, device id 106, prop: [atfp], OSStatus: 1852797029\n",
      "[000000011b542d80] auhal audio output error: AudioObjectAddPropertyListener failed, device id 125, prop: [atfp], OSStatus: 1852797029\n",
      "[000000011b542d80] auhal audio output error: AudioObjectAddPropertyListener failed, device id 76, prop: [atfp], OSStatus: 1852797029\n",
      "[000000011b542d80] auhal audio output error: AudioObjectAddPropertyListener failed, device id 88, prop: [atfp], OSStatus: 1852797029\n",
      "[000000013c4ddcb0] auhal audio output error: AudioObjectAddPropertyListener failed, device id 106, prop: [atfp], OSStatus: 1852797029\n",
      "[000000013c4ddcb0] auhal audio output error: AudioObjectAddPropertyListener failed, device id 125, prop: [atfp], OSStatus: 1852797029\n",
      "[000000013c4ddcb0] auhal audio output error: AudioObjectAddPropertyListener failed, device id 76, prop: [atfp], OSStatus: 1852797029\n",
      "[000000013c4ddcb0] auhal audio output error: AudioObjectAddPropertyListener failed, device id 88, prop: [atfp], OSStatus: 1852797029\n",
      "[000000011b542d80] auhal audio output error: AudioObjectAddPropertyListener failed, device id 106, prop: [atfp], OSStatus: 1852797029\n",
      "[000000011b542d80] auhal audio output error: AudioObjectAddPropertyListener failed, device id 125, prop: [atfp], OSStatus: 1852797029\n",
      "[000000011b542d80] auhal audio output error: AudioObjectAddPropertyListener failed, device id 76, prop: [atfp], OSStatus: 1852797029\n",
      "[000000011b542d80] auhal audio output error: AudioObjectAddPropertyListener failed, device id 88, prop: [atfp], OSStatus: 1852797029\n",
      "[000000013c4ddcb0] auhal audio output error: AudioObjectAddPropertyListener failed, device id 106, prop: [atfp], OSStatus: 1852797029\n",
      "[000000013c4ddcb0] auhal audio output error: AudioObjectAddPropertyListener failed, device id 125, prop: [atfp], OSStatus: 1852797029\n",
      "[000000013c4ddcb0] auhal audio output error: AudioObjectAddPropertyListener failed, device id 76, prop: [atfp], OSStatus: 1852797029\n",
      "[000000013c4ddcb0] auhal audio output error: AudioObjectAddPropertyListener failed, device id 88, prop: [atfp], OSStatus: 1852797029\n",
      "[000000011b542d80] auhal audio output error: AudioObjectAddPropertyListener failed, device id 106, prop: [atfp], OSStatus: 1852797029\n",
      "[000000011b542d80] auhal audio output error: AudioObjectAddPropertyListener failed, device id 125, prop: [atfp], OSStatus: 1852797029\n",
      "[000000011b542d80] auhal audio output error: AudioObjectAddPropertyListener failed, device id 76, prop: [atfp], OSStatus: 1852797029\n",
      "[000000011b542d80] auhal audio output error: AudioObjectAddPropertyListener failed, device id 88, prop: [atfp], OSStatus: 1852797029\n",
      "[000000013c4ddcb0] auhal audio output error: AudioObjectAddPropertyListener failed, device id 106, prop: [atfp], OSStatus: 1852797029\n",
      "[000000013c4ddcb0] auhal audio output error: AudioObjectAddPropertyListener failed, device id 125, prop: [atfp], OSStatus: 1852797029\n",
      "[000000013c4ddcb0] auhal audio output error: AudioObjectAddPropertyListener failed, device id 76, prop: [atfp], OSStatus: 1852797029\n",
      "[000000013c4ddcb0] auhal audio output error: AudioObjectAddPropertyListener failed, device id 88, prop: [atfp], OSStatus: 1852797029\n",
      "[000000011b542d80] auhal audio output error: AudioObjectAddPropertyListener failed, device id 106, prop: [atfp], OSStatus: 1852797029\n",
      "[000000011b542d80] auhal audio output error: AudioObjectAddPropertyListener failed, device id 125, prop: [atfp], OSStatus: 1852797029\n",
      "[000000011b542d80] auhal audio output error: AudioObjectAddPropertyListener failed, device id 76, prop: [atfp], OSStatus: 1852797029\n",
      "[000000011b542d80] auhal audio output error: AudioObjectAddPropertyListener failed, device id 88, prop: [atfp], OSStatus: 1852797029\n"
     ]
    }
   ],
   "source": [
    "# p = \"TIL_LASSE_3/Til_LASSE_breakthrough-even-Denmark_England-0-46-06\"\n",
    "\n",
    "# # Run the player\n",
    "# app = QApplication(sys.argv)\n",
    "# player = VideoPlayer()\n",
    "# player.load_clips(p)\n",
    "# player.show()\n",
    "# sys.exit(app.exec_())\n",
    "\n",
    "#   Unnamed: 0        match_name  Time [s] half_team        Time Min  rating\n",
    "# 0      354264    Denmark_Serbia   2725.72        2H  0:45:25.720000       0\n",
    "# 1       63708  Slovenia_Denmark   2548.32        1H  0:42:28.320000       0\n",
    "# 2      560100   Germany_Denmark   5182.72        2H  1:26:22.720000       0\n",
    "# 3       98520  Slovenia_Denmark   3880.16        2H  1:04:40.160000       0\n",
    "# 4      549012   Germany_Denmark   4739.20        2H  1:18:59.200000       1\n",
    "# 5      469368   Germany_Denmark   1623.12        1H  0:27:03.120000       1\n",
    "# 6      498360   Germany_Denmark   2713.12        2H  0:45:13.120000       1\n",
    "# 7      151176   Denmark_England    315.16        1H  0:05:15.160000       0\n",
    "# 8       88476  Slovenia_Denmark   3478.40        2H  0:57:58.400000       0\n",
    "# 9        1236  Slovenia_Denmark     49.44        1H  0:00:49.440000       0"
   ]
  },
  {
   "cell_type": "code",
   "execution_count": 6,
   "metadata": {},
   "outputs": [],
   "source": [
    "# p = \"TIL_LASSE_3/Til_LASSE_breakthrough-space-Denmark_England-0-30-51\"\n",
    "\n",
    "# # Run the player\n",
    "# app = QApplication(sys.argv)\n",
    "# player = VideoPlayer()\n",
    "# player.load_clips(p)\n",
    "# player.show()\n",
    "# sys.exit(app.exec_())\n",
    "\n",
    "#    Unnamed: 0        match_name  Time [s] half_team        Time Min  rating\n",
    "# 0      243480   Denmark_England   3939.68        2H  1:05:39.680000       1\n",
    "# 1      176124   Denmark_England   1313.08        1H  0:21:53.080000       1\n",
    "# 2       58164  Slovenia_Denmark   2326.56        1H  0:38:46.560000       0\n",
    "# 3      181032   Denmark_England   1509.40        1H  0:25:09.400000       0\n",
    "# 4      534696   Germany_Denmark   4166.56        2H  1:09:26.560000       0\n",
    "# 5      201324   Denmark_England   2321.08        1H  0:38:41.080000       0\n",
    "# 6      253392   Denmark_England   4336.16        2H  1:12:16.160000       0\n",
    "# 7      102036  Slovenia_Denmark   4020.80        2H  1:07:00.800000       0\n",
    "# 8        2568  Slovenia_Denmark    102.72        1H  0:01:42.720000       1\n",
    "# 9      309948    Denmark_Serbia   1011.36        1H  0:16:51.360000       0"
   ]
  },
  {
   "cell_type": "code",
   "execution_count": null,
   "metadata": {},
   "outputs": [
    {
     "name": "stderr",
     "output_type": "stream",
     "text": [
      "2024-12-06 13:12:27.573 python[18277:488702] +[IMKClient subclass]: chose IMKClient_Modern\n",
      "2024-12-06 13:12:27.573 python[18277:488702] +[IMKInputSession subclass]: chose IMKInputSession_Modern\n"
     ]
    },
    {
     "name": "stdout",
     "output_type": "stream",
     "text": [
      "VLC player successfully linked to video widget.\n",
      "Starting playback: Denmark_Serbia, 1H @ 1042s\n"
     ]
    },
    {
     "name": "stderr",
     "output_type": "stream",
     "text": [
      "[000000011da0a970] videotoolbox decoder: Using Video Toolbox to decode 'h264'\n",
      "[000000011da0a970] videotoolbox decoder: vt cvpx chroma: 420v\n"
     ]
    },
    {
     "name": "stdout",
     "output_type": "stream",
     "text": [
      "Seeked to 1042s, Player state: State.Playing\n",
      "Starting playback: Denmark_Serbia, 1H @ 1042s\n"
     ]
    },
    {
     "name": "stderr",
     "output_type": "stream",
     "text": [
      "[000000011d943860] videotoolbox decoder: Using Video Toolbox to decode 'h264'\n",
      "[000000011d943860] videotoolbox decoder: vt cvpx chroma: 420v\n"
     ]
    },
    {
     "name": "stdout",
     "output_type": "stream",
     "text": [
      "Seeked to 1042s, Player state: State.Playing\n",
      "Starting playback: Denmark_Serbia, 1H @ 613.12s\n"
     ]
    },
    {
     "name": "stderr",
     "output_type": "stream",
     "text": [
      "[000000011dabf580] videotoolbox decoder: Using Video Toolbox to decode 'h264'\n",
      "[000000011dabf580] videotoolbox decoder: vt cvpx chroma: 420v\n"
     ]
    },
    {
     "name": "stdout",
     "output_type": "stream",
     "text": [
      "Seeked to 613.12s, Player state: State.Playing\n",
      "Starting playback: Denmark_England, 1H @ 825.9399999999999s\n"
     ]
    },
    {
     "name": "stderr",
     "output_type": "stream",
     "text": [
      "[000000011da38650] videotoolbox decoder: Using Video Toolbox to decode 'h264'\n",
      "[000000011da38650] videotoolbox decoder: vt cvpx chroma: 420v\n"
     ]
    },
    {
     "name": "stdout",
     "output_type": "stream",
     "text": [
      "Seeked to 825.9399999999999s, Player state: State.Playing\n",
      "Starting playback: Germany_Denmark, 2H @ 7463.96s\n"
     ]
    },
    {
     "name": "stderr",
     "output_type": "stream",
     "text": [
      "[000000011fd22190] videotoolbox decoder: Using Video Toolbox to decode 'h264'\n",
      "[000000011fd22190] videotoolbox decoder: vt cvpx chroma: 420v\n"
     ]
    },
    {
     "name": "stdout",
     "output_type": "stream",
     "text": [
      "Seeked to 7463.96s, Player state: State.Playing\n",
      "Starting playback: Germany_Denmark, 1H @ 3939.02s\n"
     ]
    },
    {
     "name": "stderr",
     "output_type": "stream",
     "text": [
      "[000000011fd40ea0] videotoolbox decoder: Using Video Toolbox to decode 'h264'\n",
      "[000000011fd40ea0] videotoolbox decoder: vt cvpx chroma: 420v\n"
     ]
    },
    {
     "name": "stdout",
     "output_type": "stream",
     "text": [
      "Seeked to 3939.02s, Player state: State.Playing\n",
      "Starting playback: Germany_Denmark, 1H @ 284.94s\n"
     ]
    },
    {
     "name": "stderr",
     "output_type": "stream",
     "text": [
      "[000000011da6f990] videotoolbox decoder: Using Video Toolbox to decode 'h264'\n",
      "[000000011da6f990] videotoolbox decoder: vt cvpx chroma: 420v\n"
     ]
    },
    {
     "name": "stdout",
     "output_type": "stream",
     "text": [
      "Seeked to 284.94s, Player state: State.Playing\n",
      "Starting playback: Germany_Denmark, 1H @ 4215.5s\n"
     ]
    },
    {
     "name": "stderr",
     "output_type": "stream",
     "text": [
      "[000000011c0577d0] videotoolbox decoder: Using Video Toolbox to decode 'h264'\n",
      "[000000011c0577d0] videotoolbox decoder: vt cvpx chroma: 420v\n"
     ]
    },
    {
     "name": "stdout",
     "output_type": "stream",
     "text": [
      "Seeked to 4215.5s, Player state: State.Playing\n",
      "Starting playback: Slovenia_Denmark, 2H @ 5530.0s\n"
     ]
    },
    {
     "name": "stderr",
     "output_type": "stream",
     "text": [
      "[000000011da7d550] videotoolbox decoder: Using Video Toolbox to decode 'h264'\n",
      "[000000011da7d550] videotoolbox decoder: vt cvpx chroma: 420v\n"
     ]
    },
    {
     "name": "stdout",
     "output_type": "stream",
     "text": [
      "Seeked to 5530.0s, Player state: State.Playing\n",
      "Starting playback: Denmark_England, 2H @ 4890.16s\n"
     ]
    },
    {
     "name": "stderr",
     "output_type": "stream",
     "text": [
      "[000000011fd56d20] videotoolbox decoder: Using Video Toolbox to decode 'h264'\n",
      "[000000011fd56d20] videotoolbox decoder: vt cvpx chroma: 420v\n"
     ]
    },
    {
     "name": "stdout",
     "output_type": "stream",
     "text": [
      "Seeked to 4890.16s, Player state: State.Playing\n",
      "Starting playback: Denmark_Serbia, 2H @ 4323.5599999999995s\n"
     ]
    },
    {
     "name": "stderr",
     "output_type": "stream",
     "text": [
      "[000000011fd78c70] videotoolbox decoder: Using Video Toolbox to decode 'h264'\n",
      "[000000011fd78c70] videotoolbox decoder: vt cvpx chroma: 420v\n"
     ]
    },
    {
     "name": "stdout",
     "output_type": "stream",
     "text": [
      "Seeked to 4323.5599999999995s, Player state: State.Playing\n",
      "Starting playback: Denmark_Serbia, 1H @ 492.64s\n"
     ]
    },
    {
     "name": "stderr",
     "output_type": "stream",
     "text": [
      "[000000011fdd00b0] videotoolbox decoder: Using Video Toolbox to decode 'h264'\n",
      "[000000011fdd00b0] videotoolbox decoder: vt cvpx chroma: 420v\n"
     ]
    },
    {
     "name": "stdout",
     "output_type": "stream",
     "text": [
      "Seeked to 492.64s, Player state: State.Playing\n",
      "Ratings saved to DataFrame:\n",
      "   Unnamed: 0        match_name  Time [s] half_team        Time Min  rating\n",
      "0      299892    Denmark_Serbia    609.12        1H  0:10:09.120000       0\n",
      "1      163848   Denmark_England    822.04        1H  0:13:42.040000       0\n",
      "2      553356   Germany_Denmark   4912.96        2H  1:21:52.960000       0\n",
      "3      490452   Germany_Denmark   3935.12        1H  1:05:35.120000       1\n",
      "4      435816   Germany_Denmark    281.04        1H  0:04:41.040000       0\n",
      "5      497364   Germany_Denmark   4211.60        1H  1:10:11.600000       0\n",
      "6      114516  Slovenia_Denmark   4520.00        2H         1:15:20       0\n",
      "7      241092   Denmark_England   3844.16        2H  1:04:04.160000       0\n",
      "8      368160    Denmark_Serbia   3281.56        2H  0:54:41.560000       0\n",
      "9      296880    Denmark_Serbia    488.64        1H  0:08:08.640000       0\n"
     ]
    }
   ],
   "source": [
    "# p = \"TIL_LASSE_3/Til_LASSE_breakthrough-wb-Denmark_Serbia-0-17-18\"\n",
    "\n",
    "# # Run the player\n",
    "# app = QApplication(sys.argv)\n",
    "# player = VideoPlayer()\n",
    "# player.load_clips(p)\n",
    "# player.show()\n",
    "# sys.exit(app.exec_())\n",
    "\n",
    "#    Unnamed: 0        match_name  Time [s] half_team        Time Min  rating\n",
    "# 0      299892    Denmark_Serbia    609.12        1H  0:10:09.120000       0\n",
    "# 1      163848   Denmark_England    822.04        1H  0:13:42.040000       0\n",
    "# 2      553356   Germany_Denmark   4912.96        2H  1:21:52.960000       0\n",
    "# 3      490452   Germany_Denmark   3935.12        1H  1:05:35.120000       1\n",
    "# 4      435816   Germany_Denmark    281.04        1H  0:04:41.040000       0\n",
    "# 5      497364   Germany_Denmark   4211.60        1H  1:10:11.600000       0\n",
    "# 6      114516  Slovenia_Denmark   4520.00        2H         1:15:20       0\n",
    "# 7      241092   Denmark_England   3844.16        2H  1:04:04.160000       0\n",
    "# 8      368160    Denmark_Serbia   3281.56        2H  0:54:41.560000       0\n",
    "# 9      296880    Denmark_Serbia    488.64        1H  0:08:08.640000       0"
   ]
  },
  {
   "cell_type": "code",
   "execution_count": null,
   "metadata": {},
   "outputs": [],
   "source": [
    "!jupyter nbconvert --to script config_template.ipynb"
   ]
  }
 ],
 "metadata": {
  "kernelspec": {
   "display_name": "DBU",
   "language": "python",
   "name": "python3"
  },
  "language_info": {
   "codemirror_mode": {
    "name": "ipython",
    "version": 3
   },
   "file_extension": ".py",
   "mimetype": "text/x-python",
   "name": "python",
   "nbconvert_exporter": "python",
   "pygments_lexer": "ipython3",
   "version": "3.10.11"
  }
 },
 "nbformat": 4,
 "nbformat_minor": 2
}
