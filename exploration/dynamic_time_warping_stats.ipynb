{
 "cells": [
  {
   "cell_type": "code",
   "execution_count": 40,
   "metadata": {},
   "outputs": [],
   "source": [
    "import sys\n",
    "sys.path.append(\"..\")\n",
    "\n",
    "\n",
    "from fastdtw import fastdtw\n",
    "from scipy.spatial.distance import euclidean # Manhattan distance\n",
    "from libs.data_manipulation import *\n",
    "from libs.dim_reduction import *\n",
    "from libs.feature_generation import *\n",
    "from libs.clustering import *\n",
    "from libs.convex_hull import *\n",
    "from libs.alpha_shape import *\n",
    "from libs.weight_generator import *"
   ]
  },
  {
   "cell_type": "code",
   "execution_count": 41,
   "metadata": {},
   "outputs": [],
   "source": [
    "time_of_selected_moment = 42.24"
   ]
  },
  {
   "cell_type": "code",
   "execution_count": 42,
   "metadata": {},
   "outputs": [],
   "source": [
    "england_df = compile_team_tracking_data(\"../data\",\"England\")\n",
    "data_df = extract_one_match(england_df, 4)\n",
    "original_df = data_df \n",
    "first_match = data_df[data_df[\"match_id\"] == 1]\n",
    "index_of_corner = first_match[first_match[\"Time [s]\"].between(time_of_selected_moment-1, time_of_selected_moment+1)].index[0]\n",
    "data_df = filter_by_ball_radius(data_df, index_of_corner, 5)"
   ]
  },
  {
   "cell_type": "code",
   "execution_count": 43,
   "metadata": {},
   "outputs": [
    {
     "name": "stdout",
     "output_type": "stream",
     "text": [
      "        home_6_x   home_6_y   home_1_x  home_1_y  home_10_x  home_10_y  \\\n",
      "540   -37.290260  -2.787178 -50.764545 -1.079776  -4.526245  -1.828018   \n",
      "1033  -32.727360  17.328987 -43.066631  0.523623  -8.191053 -12.775763   \n",
      "1081  -32.186218  15.369570 -43.013371  0.566434  -7.459801 -13.612037   \n",
      "17568 -25.659166   9.012510 -40.815754  4.207187  -4.841258   1.702055   \n",
      "23003 -22.506197  -4.969710 -39.020309 -7.534316   2.404628  -4.911590   \n",
      "\n",
      "       home_11_x  home_11_y   home_2_x   home_2_y  ...  home_24_x  home_24_y  \\\n",
      "540   -25.677553   5.612628 -32.465500 -19.529156  ...        NaN        NaN   \n",
      "1033   -1.222537  24.914318 -18.485426 -24.229918  ...        NaN        NaN   \n",
      "1081    0.662110  24.961201 -18.246439 -26.137337  ...        NaN        NaN   \n",
      "17568   1.324650  28.230032 -12.639800 -21.451822  ...        NaN        NaN   \n",
      "23003   8.065908  21.101599  -8.858491 -33.057400  ...        NaN        NaN   \n",
      "\n",
      "       home_17_x  home_17_y  home_14_x  home_14_y  home_3_x  home_3_y  \\\n",
      "540          NaN        NaN        NaN        NaN       NaN       NaN   \n",
      "1033         NaN        NaN        NaN        NaN       NaN       NaN   \n",
      "1081         NaN        NaN        NaN        NaN       NaN       NaN   \n",
      "17568        NaN        NaN        NaN        NaN       NaN       NaN   \n",
      "23003        NaN        NaN        NaN        NaN       NaN       NaN   \n",
      "\n",
      "       ball_x_team  ball_y_team  \n",
      "540     -26.078809   -12.710450  \n",
      "1033    -28.550238    -9.379456  \n",
      "1081    -27.850288   -10.407698  \n",
      "17568   -25.509709    -5.430423  \n",
      "23003   -30.926369   -10.680468  \n",
      "\n",
      "[5 rows x 44 columns]\n",
      "         home_6_x   home_6_y  home_1_x  home_1_y  home_10_x  home_10_y  \\\n",
      "156762  11.551479 -15.213993  36.33923 -3.907271 -25.762377 -14.318997   \n",
      "\n",
      "        home_11_x  home_11_y  home_2_x   home_2_y  ...  home_24_x  home_24_y  \\\n",
      "156762 -10.481162  -25.78583   6.59945  15.126034  ...        NaN        NaN   \n",
      "\n",
      "        home_17_x  home_17_y  home_14_x  home_14_y  home_3_x  home_3_y  \\\n",
      "156762        NaN        NaN        NaN        NaN       NaN       NaN   \n",
      "\n",
      "        ball_x_team  ball_y_team  \n",
      "156762   -29.788852   -13.054371  \n",
      "\n",
      "[1 rows x 44 columns]\n",
      "[0.03229597001254103, 0.01713146998176054, 0.08180595101587697, 0.050992310542437226, 0.028767620734519998, 0.04134468436478395, 0.07312451150045346, 0.031866694242486726, 0.03372091232026048, 0.04189099273671425, 0.054340765022222404, 0.512718117525943]\n"
     ]
    }
   ],
   "source": [
    "function_3 = lambda x : np.exp((-x/40))\n",
    "function_3_results = most_similar_with_wasserstein(index_of_corner, data_df, function_3,max_weight=1)"
   ]
  },
  {
   "cell_type": "code",
   "execution_count": 46,
   "metadata": {},
   "outputs": [
    {
     "name": "stdout",
     "output_type": "stream",
     "text": [
      "651431\n",
      "359590\n",
      "222301\n",
      "449717\n",
      "642323\n",
      "520910\n",
      "387028\n",
      "140606\n",
      "449765\n",
      "637144\n",
      "91232\n",
      "23003\n",
      "449813\n",
      "24942\n",
      "642371\n",
      "520862\n",
      "520814\n",
      "477395\n",
      "503606\n",
      "477443\n",
      "449861\n",
      "589481\n",
      "637192\n",
      "348260\n",
      "323890\n",
      "180863\n",
      "337923\n",
      "370259\n",
      "324272\n",
      "265515\n",
      "481242\n",
      "520766\n",
      "61086\n",
      "370387\n",
      "520976\n",
      "394948\n",
      "386367\n",
      "177639\n",
      "449909\n",
      "361717\n",
      "309609\n",
      "1081\n",
      "295168\n",
      "368724\n",
      "358193\n",
      "387076\n",
      "324416\n",
      "129623\n",
      "361175\n",
      "295216\n",
      "392868\n",
      "314167\n",
      "60071\n",
      "651197\n",
      "521024\n",
      "1033\n",
      "386893\n",
      "37024\n",
      "481290\n",
      "284476\n",
      "284428\n",
      "305542\n",
      "358241\n",
      "60023\n",
      "637096\n",
      "305590\n",
      "410537\n",
      "402011\n",
      "361467\n",
      "457012\n",
      "154060\n",
      "265712\n",
      "509801\n",
      "433976\n",
      "303660\n",
      "54088\n",
      "314215\n",
      "618109\n",
      "628165\n",
      "540\n",
      "291000\n",
      "542195\n",
      "242743\n",
      "17568\n",
      "518585\n",
      "102543\n",
      "520348\n",
      "224622\n",
      "520396\n",
      "231325\n",
      "170458\n",
      "229853\n",
      "443561\n",
      "453828\n",
      "110394\n",
      "518895\n",
      "31671\n",
      "66714\n",
      "215007\n",
      "31623\n"
     ]
    }
   ],
   "source": [
    "distances = []\n",
    "target_sequence = original_df[[\"ball_x\",\"ball_y\"]].loc[index_of_corner:index_of_corner+120:12].to_numpy()\n",
    "target_sequence = target_sequence - target_sequence[0]\n",
    "\n",
    "for index in function_3_results[:100]:\n",
    "    print(index)\n",
    "    considered_sequence = original_df[[\"ball_x\",\"ball_y\"]].loc[index:index+120:12].to_numpy()\n",
    "    considered_sequence = considered_sequence - considered_sequence[0]\n",
    "    try :\n",
    "        distance, path = fastdtw(target_sequence, considered_sequence, dist=euclidean)\n",
    "    except:\n",
    "        continue\n",
    "    distances.append((distance, index))\n"
   ]
  },
  {
   "cell_type": "code",
   "execution_count": 47,
   "metadata": {},
   "outputs": [],
   "source": [
    "ordered_results = sorted(distances, key=lambda x :x[0])"
   ]
  },
  {
   "cell_type": "code",
   "execution_count": 48,
   "metadata": {},
   "outputs": [
    {
     "name": "stdout",
     "output_type": "stream",
     "text": [
      "[(7.071054069834963, 1033), (24.31471044975286, 651197), (35.486396539076665, 402011), (39.42338009490098, 31671), (39.73839747451029, 520348), (46.13732553522389, 348260), (47.98805268458881, 60071), (48.68440888118375, 520396), (50.98749160401895, 314167), (55.155319461143186, 386367), (58.62405359569692, 361717), (60.30811415134811, 449813), (62.191380657088324, 589481), (66.179343837905, 520862), (66.82580990019633, 303660), (68.48378756854859, 60023), (69.04500224303297, 520910), (69.36393896146313, 449765), (70.77837959955022, 520976), (70.79471335304675, 1081), (75.6099795768105, 387028), (76.62817137560764, 305542), (77.55392936356652, 284428), (78.17997357215611, 449717), (81.97970215885024, 449861), (82.31160812062835, 520814), (83.3894621735482, 23003), (86.25382848542525, 392868), (86.91434012043236, 361175), (89.60788971074473, 305590), (90.79251626394608, 337923), (90.88267752305299, 642323), (93.54343249073449, 231325), (94.61096629527594, 520766), (94.68486090958602, 359590), (98.26840061626287, 314215), (102.5509366331328, 481242), (105.54111826594634, 518895), (106.87533160417581, 387076), (107.46462191843486, 394948), (109.70766844377766, 637096), (113.7319500109729, 481290), (116.8383499000706, 518585), (118.14074442471643, 31623), (120.5879756514789, 324272), (123.2511024494594, 628165), (124.82970782869745, 368724), (125.57660258935881, 140606), (127.17265608795233, 242743), (130.3815810195669, 17568), (131.6998431409354, 129623), (134.62064887795947, 224622), (135.08092715245513, 361467), (135.88503847929215, 370387), (139.51068637156047, 637144), (140.23373684555114, 358193), (142.08861748857953, 386893), (144.4034958132627, 521024), (148.15513347490875, 37024), (151.2099931327393, 284476), (152.27873073241147, 323890), (153.9815925393394, 54088), (154.28270136286272, 324416), (155.20261065797567, 642371), (157.54699549993268, 651431), (157.6768468615342, 477395), (158.84989892695214, 66714), (160.0175897915284, 295168), (170.58067465843823, 370259), (171.3965547941828, 453828), (171.92612092304074, 449909), (172.3621632995659, 215007), (176.65694293100444, 222301), (176.89358372338367, 61086), (177.71984433354893, 309609), (182.0558602173835, 443561), (184.196437653685, 637192), (189.89912024816272, 177639), (190.49495525563998, 265712), (194.6329076694206, 154060), (194.82187328078, 229853), (196.71668912294666, 91232), (199.7129864086805, 503606), (200.16880538961738, 457012), (210.23582893031562, 291000), (211.05070030215043, 540), (212.68463418951882, 542195), (214.8548433312071, 170458), (219.29212245499764, 358241), (222.76373507408073, 477443), (223.32606963281597, 509801), (227.101037598095, 265515), (228.8434726359058, 102543), (229.91761047432672, 24942), (248.41794329620973, 110394), (249.22568311632068, 295216), (260.7027036569688, 433976), (266.06484896756103, 618109), (287.48236722119935, 410537)]\n"
     ]
    }
   ],
   "source": [
    "print(ordered_results)"
   ]
  },
  {
   "cell_type": "code",
   "execution_count": 52,
   "metadata": {},
   "outputs": [
    {
     "name": "stdout",
     "output_type": "stream",
     "text": [
      "Folder 'DTW_results' has been removed successfully.\n",
      "Folder 'DTW_results/target_situation' does not exist.\n",
      "Folder 'DTW_results/suggested_situations' does not exist.\n"
     ]
    }
   ],
   "source": [
    "generate_folder(\"DTW_results\")\n",
    "generate_folder(\"DTW_results/target_situation\")\n",
    "generate_folder(\"DTW_results/suggested_situations\")\n",
    "\n",
    "\n",
    "generate_pitches_from_start_indices([ordered_results[2][1]], original_df,\"DTW_results/suggested_situations\",10,120)\n",
    "generate_pitches_from_start_indices([index_of_corner], original_df,\"DTW_results/target_situation\",10,120)\n"
   ]
  }
 ],
 "metadata": {
  "kernelspec": {
   "display_name": "DBU",
   "language": "python",
   "name": "python3"
  },
  "language_info": {
   "codemirror_mode": {
    "name": "ipython",
    "version": 3
   },
   "file_extension": ".py",
   "mimetype": "text/x-python",
   "name": "python",
   "nbconvert_exporter": "python",
   "pygments_lexer": "ipython3",
   "version": "3.10.11"
  }
 },
 "nbformat": 4,
 "nbformat_minor": 2
}
