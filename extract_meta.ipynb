{
 "cells": [
  {
   "cell_type": "code",
   "execution_count": 5,
   "metadata": {},
   "outputs": [],
   "source": [
    "#from libs.prefect_helpers import *\n",
    "from libs.data_manipulation import *\n",
    "from libs.feature_generation import *\n",
    "from libs.dim_reduction import *\n",
    "from libs.football_plots import *\n",
    "from libs.clustering import *\n",
    "from libs.convex_hull import *\n",
    "from libs.Video_Player import *\n",
    "\n",
    "import matplotlib.pyplot as plt\n",
    "from sklearn.neighbors import KDTree\n",
    "from libs.InteractivePitchUI import InteractivePitch, PitchDisplay\n",
    "\n",
    "from mplsoccer import *\n",
    "import pandas as pd\n",
    "import numpy as np\n",
    "import os\n",
    "import json\n",
    "# Click player into the pitch and take those player and apply Ripleys K to them. And then maybe PCA\n"
   ]
  },
  {
   "cell_type": "code",
   "execution_count": 6,
   "metadata": {},
   "outputs": [
    {
     "name": "stdout",
     "output_type": "stream",
     "text": [
      "First Half Start Time in Seconds: 9\n",
      "Second Half Start Time in Seconds: 3751\n"
     ]
    },
    {
     "data": {
      "text/plain": [
       "<libs.Video_Player.VideoPlayer at 0x1ed400f3c90>"
      ]
     },
     "execution_count": 6,
     "metadata": {},
     "output_type": "execute_result"
    }
   ],
   "source": [
    "\n",
    "# open .json file\n",
    "def extract_meta_data(file_path):\n",
    "    with open(file_path) as f:\n",
    "        data = json.load(f)\n",
    "    return data\n",
    "\n",
    "# Extract the start time of the first and second half\n",
    "def extract_half_start(data):\n",
    "    first_half_start = data[\"halvesTimestamps\"][\"1H\"][\"startTime\"]\n",
    "    second_half_start = data[\"halvesTimestamps\"][\"2H\"][\"startTime\"]\n",
    "\n",
    "    # convert HH:MM:SS to seconds\n",
    "    h_1, m_1, s_1 = map(int, first_half_start.split(\":\"))\n",
    "    h_2, m_2, s_2 = map(int, second_half_start.split(\":\"))\n",
    "\n",
    "    first_half_start_seconds = h_1 * 3600 + m_1 * 60 + s_1\n",
    "    second_half_start_seconds = h_2 * 3600 + m_2 * 60 + s_2\n",
    "\n",
    "\n",
    "    return first_half_start_seconds, second_half_start_seconds\n",
    "\n",
    "folder_name = \"data/H_EURO2024GERMANY/2036178_Denmark_England\"\n",
    "json_name = \"DEN - ENG.json\"\n",
    "video_name = \"3-2024-2036178-Denmark_England.mp4\"\n",
    "\n",
    "data = extract_meta_data(os.path.join(folder_name, json_name))\n",
    "    \n",
    "first_half_start, second_half_start = extract_half_start(data)\n",
    "\n",
    "# Print the results\n",
    "print(\"First Half Start Time in Seconds:\", first_half_start)\n",
    "print(\"Second Half Start Time in Seconds:\", second_half_start)\n",
    "\n",
    "example_indices = np.array([[50,'1H'],[1000, '2H']])\n",
    "\n",
    "VideoPlayer(os.path.join(folder_name, video_name), video_name, first_half_start, second_half_start, example_indices )"
   ]
  },
  {
   "cell_type": "code",
   "execution_count": null,
   "metadata": {},
   "outputs": [],
   "source": []
  },
  {
   "cell_type": "code",
   "execution_count": null,
   "metadata": {},
   "outputs": [],
   "source": []
  }
 ],
 "metadata": {
  "kernelspec": {
   "display_name": "Python 3",
   "language": "python",
   "name": "python3"
  },
  "language_info": {
   "codemirror_mode": {
    "name": "ipython",
    "version": 3
   },
   "file_extension": ".py",
   "mimetype": "text/x-python",
   "name": "python",
   "nbconvert_exporter": "python",
   "pygments_lexer": "ipython3",
   "version": "3.11.9"
  }
 },
 "nbformat": 4,
 "nbformat_minor": 2
}
